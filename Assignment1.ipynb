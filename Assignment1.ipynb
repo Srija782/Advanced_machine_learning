{
  "nbformat": 4,
  "nbformat_minor": 0,
  "metadata": {
    "colab": {
      "name": "Copy of Copy of Copy of final1.ipynb",
      "provenance": []
    },
    "kernelspec": {
      "name": "python3",
      "display_name": "Python 3"
    },
    "language_info": {
      "name": "python"
    }
  },
  "cells": [
    {
      "cell_type": "markdown",
      "source": [
        "## IMDB Reviews"
      ],
      "metadata": {
        "id": "WsXNE2ImoxeI"
      }
    },
    {
      "cell_type": "markdown",
      "source": [
        "##  Classification of movie reviews : A binary classification example"
      ],
      "metadata": {
        "id": "-4abjT1-PJoN"
      }
    },
    {
      "cell_type": "markdown",
      "source": [
        "Create a neural network to classify reviews from the IMDB movie reviews dataset into two categories, or binary classification, to determine whether they are good or bad. To conduct the categorization, we will use the Python library Keras."
      ],
      "metadata": {
        "id": "KZkluRnAProO"
      }
    },
    {
      "cell_type": "markdown",
      "source": [
        " Problem Statement\n",
        "\n",
        " Find the probability of the review being a positive or negative using deep neural networks."
      ],
      "metadata": {
        "id": "a0Q8lgIfQfZ-"
      }
    },
    {
      "cell_type": "markdown",
      "source": [
        "About the dataset\n",
        "\n",
        "The Internet Movie Database's IMDB dataset has 50,000 extremely polarized reviews. For training and testing, they are divided into 25000 reviews apiece. Each set comprises an equivalent number of favorable and negative evaluations(50 percent).\n",
        "\n",
        "Keras is included with the IMDB dataset. It is made up of reviews and the labels that go with them (0 for negative and 1 for positive review). The reviews consist of a series of words. They are preprocessed as a series of integers, with each integer representing a different word from the dictionary.\n"
      ],
      "metadata": {
        "id": "cB9Zajk-Q2Yi"
      }
    },
    {
      "cell_type": "markdown",
      "source": [
        "Loading the IMDB dataset"
      ],
      "metadata": {
        "id": "Vfoc0Tga9WjD"
      }
    },
    {
      "cell_type": "code",
      "source": [
        "# importing libraries\n",
        "\n",
        "import matplotlib\n",
        "import matplotlib.pyplot as plt\n",
        "import numpy as np\n",
        "from keras import models\n",
        "from keras import layers"
      ],
      "metadata": {
        "id": "C7dKPXtg9aAf"
      },
      "execution_count": 1,
      "outputs": []
    },
    {
      "cell_type": "markdown",
      "source": [
        "Divide the dataset into training and test sets.\n"
      ],
      "metadata": {
        "id": "GCxqF1PU-DMp"
      }
    },
    {
      "cell_type": "markdown",
      "source": [
        "Load the data, keeping only 10,000 of the most frequently occuring words\n"
      ],
      "metadata": {
        "id": "E3EGVFt2z7EV"
      }
    },
    {
      "cell_type": "code",
      "source": [
        "from tensorflow.keras.datasets import imdb\n",
        "(train_data, train_labels), (test_data, test_labels) = imdb.load_data(\n",
        "    num_words=10000)"
      ],
      "metadata": {
        "id": "NrIyU3HmnvIt"
      },
      "execution_count": 2,
      "outputs": []
    },
    {
      "cell_type": "markdown",
      "source": [
        "Printing the first review from the training data"
      ],
      "metadata": {
        "id": "HovsWOrs-Rft"
      }
    },
    {
      "cell_type": "code",
      "source": [
        "train_data[0]\n"
      ],
      "metadata": {
        "colab": {
          "base_uri": "https://localhost:8080/"
        },
        "id": "Pl9bxzCWn8zf",
        "outputId": "35a924ec-9144-4acf-db68-34a2e7fef3d1"
      },
      "execution_count": 3,
      "outputs": [
        {
          "output_type": "execute_result",
          "data": {
            "text/plain": [
              "[1,\n",
              " 14,\n",
              " 22,\n",
              " 16,\n",
              " 43,\n",
              " 530,\n",
              " 973,\n",
              " 1622,\n",
              " 1385,\n",
              " 65,\n",
              " 458,\n",
              " 4468,\n",
              " 66,\n",
              " 3941,\n",
              " 4,\n",
              " 173,\n",
              " 36,\n",
              " 256,\n",
              " 5,\n",
              " 25,\n",
              " 100,\n",
              " 43,\n",
              " 838,\n",
              " 112,\n",
              " 50,\n",
              " 670,\n",
              " 2,\n",
              " 9,\n",
              " 35,\n",
              " 480,\n",
              " 284,\n",
              " 5,\n",
              " 150,\n",
              " 4,\n",
              " 172,\n",
              " 112,\n",
              " 167,\n",
              " 2,\n",
              " 336,\n",
              " 385,\n",
              " 39,\n",
              " 4,\n",
              " 172,\n",
              " 4536,\n",
              " 1111,\n",
              " 17,\n",
              " 546,\n",
              " 38,\n",
              " 13,\n",
              " 447,\n",
              " 4,\n",
              " 192,\n",
              " 50,\n",
              " 16,\n",
              " 6,\n",
              " 147,\n",
              " 2025,\n",
              " 19,\n",
              " 14,\n",
              " 22,\n",
              " 4,\n",
              " 1920,\n",
              " 4613,\n",
              " 469,\n",
              " 4,\n",
              " 22,\n",
              " 71,\n",
              " 87,\n",
              " 12,\n",
              " 16,\n",
              " 43,\n",
              " 530,\n",
              " 38,\n",
              " 76,\n",
              " 15,\n",
              " 13,\n",
              " 1247,\n",
              " 4,\n",
              " 22,\n",
              " 17,\n",
              " 515,\n",
              " 17,\n",
              " 12,\n",
              " 16,\n",
              " 626,\n",
              " 18,\n",
              " 2,\n",
              " 5,\n",
              " 62,\n",
              " 386,\n",
              " 12,\n",
              " 8,\n",
              " 316,\n",
              " 8,\n",
              " 106,\n",
              " 5,\n",
              " 4,\n",
              " 2223,\n",
              " 5244,\n",
              " 16,\n",
              " 480,\n",
              " 66,\n",
              " 3785,\n",
              " 33,\n",
              " 4,\n",
              " 130,\n",
              " 12,\n",
              " 16,\n",
              " 38,\n",
              " 619,\n",
              " 5,\n",
              " 25,\n",
              " 124,\n",
              " 51,\n",
              " 36,\n",
              " 135,\n",
              " 48,\n",
              " 25,\n",
              " 1415,\n",
              " 33,\n",
              " 6,\n",
              " 22,\n",
              " 12,\n",
              " 215,\n",
              " 28,\n",
              " 77,\n",
              " 52,\n",
              " 5,\n",
              " 14,\n",
              " 407,\n",
              " 16,\n",
              " 82,\n",
              " 2,\n",
              " 8,\n",
              " 4,\n",
              " 107,\n",
              " 117,\n",
              " 5952,\n",
              " 15,\n",
              " 256,\n",
              " 4,\n",
              " 2,\n",
              " 7,\n",
              " 3766,\n",
              " 5,\n",
              " 723,\n",
              " 36,\n",
              " 71,\n",
              " 43,\n",
              " 530,\n",
              " 476,\n",
              " 26,\n",
              " 400,\n",
              " 317,\n",
              " 46,\n",
              " 7,\n",
              " 4,\n",
              " 2,\n",
              " 1029,\n",
              " 13,\n",
              " 104,\n",
              " 88,\n",
              " 4,\n",
              " 381,\n",
              " 15,\n",
              " 297,\n",
              " 98,\n",
              " 32,\n",
              " 2071,\n",
              " 56,\n",
              " 26,\n",
              " 141,\n",
              " 6,\n",
              " 194,\n",
              " 7486,\n",
              " 18,\n",
              " 4,\n",
              " 226,\n",
              " 22,\n",
              " 21,\n",
              " 134,\n",
              " 476,\n",
              " 26,\n",
              " 480,\n",
              " 5,\n",
              " 144,\n",
              " 30,\n",
              " 5535,\n",
              " 18,\n",
              " 51,\n",
              " 36,\n",
              " 28,\n",
              " 224,\n",
              " 92,\n",
              " 25,\n",
              " 104,\n",
              " 4,\n",
              " 226,\n",
              " 65,\n",
              " 16,\n",
              " 38,\n",
              " 1334,\n",
              " 88,\n",
              " 12,\n",
              " 16,\n",
              " 283,\n",
              " 5,\n",
              " 16,\n",
              " 4472,\n",
              " 113,\n",
              " 103,\n",
              " 32,\n",
              " 15,\n",
              " 16,\n",
              " 5345,\n",
              " 19,\n",
              " 178,\n",
              " 32]"
            ]
          },
          "metadata": {},
          "execution_count": 3
        }
      ]
    },
    {
      "cell_type": "code",
      "source": [
        "# Check the first label\n",
        "\n",
        "train_labels[0]"
      ],
      "metadata": {
        "colab": {
          "base_uri": "https://localhost:8080/"
        },
        "id": "82kRgNZqqX-7",
        "outputId": "533cf4cb-5a87-430f-c9da-850091e2564a"
      },
      "execution_count": 4,
      "outputs": [
        {
          "output_type": "execute_result",
          "data": {
            "text/plain": [
              "1"
            ]
          },
          "metadata": {},
          "execution_count": 4
        }
      ]
    },
    {
      "cell_type": "code",
      "source": [
        "# Only 10000 frequent words are considered and therefore the word index should not exceed the frequent word count.\n",
        "\n",
        "# Find the maximum of all the maximum indexes\n",
        "max([max(sequence) for sequence in train_data])"
      ],
      "metadata": {
        "colab": {
          "base_uri": "https://localhost:8080/"
        },
        "id": "2iAurRT9rJjT",
        "outputId": "976966aa-378b-430c-cca9-f42b5c5b0c85"
      },
      "execution_count": 5,
      "outputs": [
        {
          "output_type": "execute_result",
          "data": {
            "text/plain": [
              "9999"
            ]
          },
          "metadata": {},
          "execution_count": 5
        }
      ]
    },
    {
      "cell_type": "markdown",
      "source": [
        "Decoding movie reviews back to text"
      ],
      "metadata": {
        "id": "GZiX34HVrbnG"
      }
    },
    {
      "cell_type": "code",
      "source": [
        "# Let's decode the review\n",
        "\n",
        "# step 1: Load the mappings of the dictionary from the word to integer index\n",
        "word_index = imdb.get_word_index()\n",
        "\n",
        "# step 2: reverse word index to integer mapping \n",
        "reverse_word_index = dict(\n",
        "    [(value, key) for (key, value) in word_index.items()])\n",
        "\n",
        "# step 3: Decode the review, mapping integer to words\n",
        "decoded_review = \" \".join(\n",
        "    [reverse_word_index.get(i - 3, \"?\") for i in train_data[0]])\n",
        "decoded_review"
      ],
      "metadata": {
        "colab": {
          "base_uri": "https://localhost:8080/",
          "height": 142
        },
        "id": "d-CoIR3Prv-p",
        "outputId": "9152d31f-6911-450b-ee32-bc19b31cef76"
      },
      "execution_count": 6,
      "outputs": [
        {
          "output_type": "execute_result",
          "data": {
            "application/vnd.google.colaboratory.intrinsic+json": {
              "type": "string"
            },
            "text/plain": [
              "\"? this film was just brilliant casting location scenery story direction everyone's really suited the part they played and you could just imagine being there robert ? is an amazing actor and now the same being director ? father came from the same scottish island as myself so i loved the fact there was a real connection with this film the witty remarks throughout the film were great it was just brilliant so much that i bought the film as soon as it was released for ? and would recommend it to everyone to watch and the fly fishing was amazing really cried at the end it was so sad and you know what they say if you cry at a film it must have been good and this definitely was also ? to the two little boy's that played the ? of norman and paul they were just brilliant children are often left out of the ? list i think because the stars that play them all grown up are such a big profile for the whole film but these children are amazing and should be praised for what they have done don't you think the whole story was so lovely because it was true and was someone's life after all that was shared with us all\""
            ]
          },
          "metadata": {},
          "execution_count": 6
        }
      ]
    },
    {
      "cell_type": "code",
      "source": [
        "len(reverse_word_index)"
      ],
      "metadata": {
        "id": "Y0ex6yYeXEWq",
        "colab": {
          "base_uri": "https://localhost:8080/"
        },
        "outputId": "20711ed7-5b7a-425b-d453-c95a9e8fc2ce"
      },
      "execution_count": 7,
      "outputs": [
        {
          "output_type": "execute_result",
          "data": {
            "text/plain": [
              "88584"
            ]
          },
          "metadata": {},
          "execution_count": 7
        }
      ]
    },
    {
      "cell_type": "markdown",
      "source": [
        "Preparing the data"
      ],
      "metadata": {
        "id": "3WaFxKpKsmAW"
      }
    },
    {
      "cell_type": "markdown",
      "source": [
        "**Vectorizing the data**\n",
        "\n",
        "Our deep convolutional neural network cannot be given a list of integers. We'll have had to turn them into tensors.\n",
        "\n",
        "To prepare our data, we'll utilize One-hot Encoding to convert our lists into vectors of 0s and 1s. Everyone of our sequences would be blown up into 10,000-dimensional vectors with 1 at all indexes correlating all integers in the sequence. All indices that are not in integer sequence will also have the element 0 in this vector.\n",
        "\n",
        "Simply explained, each review will be represented by a 10,000-dimensional vector.\n",
        "\n",
        "Each index corresponds to a single word.\n",
        "Every index with the value 1 represents a word in the review that is designated by its integer counterpart.\n",
        "Every index that starts with 0 is a word.\n",
        "\n"
      ],
      "metadata": {
        "id": "lEv2M1GuXSDL"
      }
    },
    {
      "cell_type": "code",
      "source": [
        "import numpy as np\n",
        "def vectorize_sequences(sequences, dimension=10000):\n",
        "    results = np.zeros((len(sequences), dimension))                   \n",
        "    for i, sequence in enumerate(sequences):\n",
        "        for j in sequence:\n",
        "            results[i, j] = 1                                 \n",
        "    return results\n",
        "\n",
        "# Vectorizing the train data\n",
        "x_train = vectorize_sequences(train_data)\n",
        "# Vectorizing the test data\n",
        "x_test = vectorize_sequences(test_data)"
      ],
      "metadata": {
        "id": "Q4XnRZ_UsxiU"
      },
      "execution_count": 8,
      "outputs": []
    },
    {
      "cell_type": "code",
      "source": [
        "x_train[0]"
      ],
      "metadata": {
        "colab": {
          "base_uri": "https://localhost:8080/"
        },
        "id": "cu7o3jV6s7mp",
        "outputId": "598a9a6c-0211-4b79-f28a-87bad63e4ae2"
      },
      "execution_count": 9,
      "outputs": [
        {
          "output_type": "execute_result",
          "data": {
            "text/plain": [
              "array([0., 1., 1., ..., 0., 0., 0.])"
            ]
          },
          "metadata": {},
          "execution_count": 9
        }
      ]
    },
    {
      "cell_type": "code",
      "source": [
        "x_train.shape"
      ],
      "metadata": {
        "id": "k69JI_2sYyFT",
        "colab": {
          "base_uri": "https://localhost:8080/"
        },
        "outputId": "f5ad8b59-1c4b-4e36-bbc1-9ecfa9e02d41"
      },
      "execution_count": 10,
      "outputs": [
        {
          "output_type": "execute_result",
          "data": {
            "text/plain": [
              "(25000, 10000)"
            ]
          },
          "metadata": {},
          "execution_count": 10
        }
      ]
    },
    {
      "cell_type": "code",
      "source": [
        "y_train = np.asarray(train_labels).astype(\"float32\")\n",
        "y_test = np.asarray(test_labels).astype(\"float32\")"
      ],
      "metadata": {
        "id": "c_O7r3YRtAnv"
      },
      "execution_count": 11,
      "outputs": []
    },
    {
      "cell_type": "markdown",
      "source": [
        "**Building the model**\n",
        "\n",
        "Our input dataset consisted of vectors which must be converted to encoder labels (0s and 1s). This is one of the simplest setups, and a basic stack of fully connected Dense layers with relu activation operates well."
      ],
      "metadata": {
        "id": "TTxXDDsctHCz"
      }
    },
    {
      "cell_type": "markdown",
      "source": [
        "**Hidden Layers**\n",
        "\n",
        "We'll use hidden layers in this network. As a response, we'll classify our layers.\n",
        "\n",
        "Dense(16, activation='relu')\n",
        "The number of hidden units of a layer is the argument supplied to each Dense layer (16).\n",
        "\n",
        "After a series of tensor operations, the output of a Dense layer with relu activation is generated. This process is carried out in the following manner:\n",
        "\n",
        "output = relu(dot(W, input) + b)\n",
        "W is the weight matrix, while b denotes the bias (tensor).\n",
        "\n",
        "The matrix W will have the shape (_inputDimension, 16) if there are 16 hidden units. In this scenario, the input vector's dimension is 10,000, and the Weight matrix's structure is (10000, 16). This network would have 16 neurons if represented as a graph."
      ],
      "metadata": {
        "id": "IB_1Q_r4ZS1F"
      }
    },
    {
      "cell_type": "markdown",
      "source": [
        "**Architecture of the Model**\n",
        "\n",
        "For our model, we will be using the\n",
        "\n",
        "1. Two layers which are intermediate with each having 16 hidden layers uses relu activation function which is used in zeroing the negative values.\n",
        "\n",
        "2. Third layer will be the output layer which uses a sigmoid activation."
      ],
      "metadata": {
        "id": "hJRumn0mW2MV"
      }
    },
    {
      "cell_type": "code",
      "source": [
        "from tensorflow import keras\n",
        "from tensorflow.keras import layers\n",
        "\n",
        "model = keras.Sequential([\n",
        "    layers.Dense(16, activation=\"relu\"),\n",
        "    layers.Dense(16, activation=\"relu\"),\n",
        "    layers.Dense(1, activation=\"sigmoid\")\n",
        "])"
      ],
      "metadata": {
        "id": "H9_nfT8AtJNG"
      },
      "execution_count": 12,
      "outputs": []
    },
    {
      "cell_type": "markdown",
      "source": [
        "**Compiling the model**\n",
        "\n",
        "In the compilation step, we will observe optimizer, loss function and metrics.\n",
        "\n",
        "Here, we will use the following functions\n",
        "* binary_crossentropy loss function which is used for binary classification.\n",
        "* optimizer used is rmsprop.\n",
        "* the measure of performance is accuracy\n",
        "\n",
        "the above functions can be used to the compile the model as all the rmsprop, binary_crossentropy and accuracy comes in package with keras.\n",
        "\n",
        "model.compile(optimizer=\"rmsprop\",\n",
        "              loss=\"binary_crossentropy\",\n",
        "              metrics=[\"accuracy\"])\n",
        "\n"
      ],
      "metadata": {
        "id": "9C3OHy2ttZ3y"
      }
    },
    {
      "cell_type": "code",
      "source": [
        "\n",
        "model.compile(optimizer=\"rmsprop\",\n",
        "              loss=\"binary_crossentropy\",\n",
        "              metrics=[\"accuracy\"])"
      ],
      "metadata": {
        "id": "rc6kIc1rtbrD"
      },
      "execution_count": 13,
      "outputs": []
    },
    {
      "cell_type": "markdown",
      "source": [
        "**Setting aside a validation set**\n",
        "\n",
        "We'll set aside a few of our training data for validation of the model's correctness as it improves. A validation set allows companies to monitor the progress of our model as it advances through epochs during training on previously unseen data.\n",
        "\n",
        "Validation steps allow us to fine-tune the model's training parameters.\n",
        "\n",
        "fit function to prevent data overfitting and underfitting."
      ],
      "metadata": {
        "id": "9L_Wqnh9tlOD"
      }
    },
    {
      "cell_type": "code",
      "source": [
        "x_val = x_train[:10000]\n",
        "partial_x_train = x_train[10000:]\n",
        "y_val = y_train[:10000]\n",
        "partial_y_train = y_train[10000:]"
      ],
      "metadata": {
        "id": "G3Fgqot4tnko"
      },
      "execution_count": 14,
      "outputs": []
    },
    {
      "cell_type": "markdown",
      "source": [
        "**Training the model**\n",
        "\n",
        "In the start, we'll train our models in 512-sample mini-batches for 20 epochs. The fit method will also take our validation set.\n",
        "\n",
        "The fit function will return a History object when called. This object has a member history that includes all information about the training process, including the values of observable or monitored quantities as the epochs progress. \n",
        "This item will be saved so that we can better decide the fine tuning that will be done to the training step."
      ],
      "metadata": {
        "id": "sEqiRQLqtsXv"
      }
    },
    {
      "cell_type": "code",
      "source": [
        "history = model.fit(partial_x_train,\n",
        "                    partial_y_train,\n",
        "                    epochs=20,\n",
        "                    batch_size=512,\n",
        "                    validation_data=(x_val, y_val))"
      ],
      "metadata": {
        "colab": {
          "base_uri": "https://localhost:8080/"
        },
        "id": "lvymfs3CtwwI",
        "outputId": "23dd9e88-2dcf-4caa-d304-05caaf040306"
      },
      "execution_count": 15,
      "outputs": [
        {
          "output_type": "stream",
          "name": "stdout",
          "text": [
            "Epoch 1/20\n",
            "30/30 [==============================] - 4s 68ms/step - loss: 0.5396 - accuracy: 0.7715 - val_loss: 0.4165 - val_accuracy: 0.8687\n",
            "Epoch 2/20\n",
            "30/30 [==============================] - 1s 42ms/step - loss: 0.3323 - accuracy: 0.8993 - val_loss: 0.3317 - val_accuracy: 0.8791\n",
            "Epoch 3/20\n",
            "30/30 [==============================] - 1s 45ms/step - loss: 0.2426 - accuracy: 0.9252 - val_loss: 0.2924 - val_accuracy: 0.8844\n",
            "Epoch 4/20\n",
            "30/30 [==============================] - 2s 56ms/step - loss: 0.1892 - accuracy: 0.9409 - val_loss: 0.2927 - val_accuracy: 0.8836\n",
            "Epoch 5/20\n",
            "30/30 [==============================] - 1s 50ms/step - loss: 0.1535 - accuracy: 0.9524 - val_loss: 0.3031 - val_accuracy: 0.8808\n",
            "Epoch 6/20\n",
            "30/30 [==============================] - 1s 42ms/step - loss: 0.1253 - accuracy: 0.9625 - val_loss: 0.2884 - val_accuracy: 0.8863\n",
            "Epoch 7/20\n",
            "30/30 [==============================] - 1s 39ms/step - loss: 0.1065 - accuracy: 0.9692 - val_loss: 0.3238 - val_accuracy: 0.8787\n",
            "Epoch 8/20\n",
            "30/30 [==============================] - 1s 41ms/step - loss: 0.0868 - accuracy: 0.9762 - val_loss: 0.3347 - val_accuracy: 0.8789\n",
            "Epoch 9/20\n",
            "30/30 [==============================] - 1s 49ms/step - loss: 0.0747 - accuracy: 0.9803 - val_loss: 0.3409 - val_accuracy: 0.8813\n",
            "Epoch 10/20\n",
            "30/30 [==============================] - 1s 43ms/step - loss: 0.0629 - accuracy: 0.9827 - val_loss: 0.3846 - val_accuracy: 0.8716\n",
            "Epoch 11/20\n",
            "30/30 [==============================] - 1s 38ms/step - loss: 0.0501 - accuracy: 0.9886 - val_loss: 0.3904 - val_accuracy: 0.8783\n",
            "Epoch 12/20\n",
            "30/30 [==============================] - 1s 38ms/step - loss: 0.0441 - accuracy: 0.9890 - val_loss: 0.4186 - val_accuracy: 0.8736\n",
            "Epoch 13/20\n",
            "30/30 [==============================] - 2s 51ms/step - loss: 0.0359 - accuracy: 0.9919 - val_loss: 0.4547 - val_accuracy: 0.8716\n",
            "Epoch 14/20\n",
            "30/30 [==============================] - 2s 55ms/step - loss: 0.0288 - accuracy: 0.9940 - val_loss: 0.4768 - val_accuracy: 0.8722\n",
            "Epoch 15/20\n",
            "30/30 [==============================] - 2s 63ms/step - loss: 0.0233 - accuracy: 0.9960 - val_loss: 0.5091 - val_accuracy: 0.8722\n",
            "Epoch 16/20\n",
            "30/30 [==============================] - 1s 48ms/step - loss: 0.0191 - accuracy: 0.9966 - val_loss: 0.5510 - val_accuracy: 0.8678\n",
            "Epoch 17/20\n",
            "30/30 [==============================] - 1s 39ms/step - loss: 0.0137 - accuracy: 0.9989 - val_loss: 0.5932 - val_accuracy: 0.8680\n",
            "Epoch 18/20\n",
            "30/30 [==============================] - 1s 38ms/step - loss: 0.0136 - accuracy: 0.9978 - val_loss: 0.6168 - val_accuracy: 0.8680\n",
            "Epoch 19/20\n",
            "30/30 [==============================] - 1s 38ms/step - loss: 0.0107 - accuracy: 0.9989 - val_loss: 0.6601 - val_accuracy: 0.8637\n",
            "Epoch 20/20\n",
            "30/30 [==============================] - 1s 46ms/step - loss: 0.0068 - accuracy: 0.9994 - val_loss: 0.6884 - val_accuracy: 0.8643\n"
          ]
        }
      ]
    },
    {
      "cell_type": "markdown",
      "source": [
        "By the end of the training, we have attained a training accuracy of 99.99% and validation accuracy of 86.80%.\n",
        "\n",
        "The performance metrics of the network is observed and is stored in the history object.\n",
        "\n",
        "by calling the fit method returns a history object. This object has an attribute which is a dictionary which contains four entries."
      ],
      "metadata": {
        "id": "rhn8hBtqjCOB"
      }
    },
    {
      "cell_type": "code",
      "source": [
        "history_dict = history.history\n",
        "history_dict.keys()"
      ],
      "metadata": {
        "colab": {
          "base_uri": "https://localhost:8080/"
        },
        "id": "hgYkUJVouBFC",
        "outputId": "01bd4fb8-e26b-44fe-f01c-ca0a95bf1aac"
      },
      "execution_count": 16,
      "outputs": [
        {
          "output_type": "execute_result",
          "data": {
            "text/plain": [
              "dict_keys(['loss', 'accuracy', 'val_loss', 'val_accuracy'])"
            ]
          },
          "metadata": {},
          "execution_count": 16
        }
      ]
    },
    {
      "cell_type": "markdown",
      "source": [
        "history_dict consists of \n",
        "* Training loss\n",
        "* Training Accuracy\n",
        "* Validation Loss\n",
        "* Validation Accuracy\n",
        "\n",
        "We are using Matplotlib to plot the loss and accuracy of both Training and Validation side by side."
      ],
      "metadata": {
        "id": "nHuIBznokkIU"
      }
    },
    {
      "cell_type": "markdown",
      "source": [
        "**Plotting the training and validation loss**"
      ],
      "metadata": {
        "id": "eWSJm1l1uOgR"
      }
    },
    {
      "cell_type": "code",
      "source": [
        "import matplotlib.pyplot as plt\n",
        "history_dict = history.history\n",
        "loss_values = history_dict[\"loss\"]             # Plotting the losses\n",
        "val_loss_values = history_dict[\"val_loss\"]\n",
        "epochs = range(1, len(loss_values) + 1)\n",
        "plt.plot(epochs, loss_values, \"bo\", label=\"Training loss\")\n",
        "plt.plot(epochs, val_loss_values, \"b\", label=\"Validation loss\")\n",
        "plt.title(\"Training and validation loss\")\n",
        "plt.xlabel(\"Epochs\")\n",
        "plt.ylabel(\"Loss\")\n",
        "plt.legend()\n",
        "plt.show()"
      ],
      "metadata": {
        "colab": {
          "base_uri": "https://localhost:8080/",
          "height": 295
        },
        "id": "-sERxgrsuRoi",
        "outputId": "3a023f61-9df8-404b-cbac-269ed46dec37"
      },
      "execution_count": 17,
      "outputs": [
        {
          "output_type": "display_data",
          "data": {
            "image/png": "[encoded data removed]",
            "text/plain": [
              "<Figure size 432x288 with 1 Axes>"
            ]
          },
          "metadata": {
            "needs_background": "light"
          }
        }
      ]
    },
    {
      "cell_type": "markdown",
      "source": [
        "Validation loss started increasing from 3rd epoch. So the remodelling is done using 3rd and 4th epochs."
      ],
      "metadata": {
        "id": "ME_g-BtitX3B"
      }
    },
    {
      "cell_type": "markdown",
      "source": [
        "**Plotting the  training and validation accuracy**"
      ],
      "metadata": {
        "id": "De3y0IjNvnws"
      }
    },
    {
      "cell_type": "code",
      "source": [
        "plt.clf()\n",
        "acc = history_dict[\"accuracy\"]\n",
        "val_acc = history_dict[\"val_accuracy\"]                     # Plotting the accuracy\n",
        "plt.plot(epochs, acc, \"bo\", label=\"Training acc\")\n",
        "plt.plot(epochs, val_acc, \"b\", label=\"Validation acc\")\n",
        "plt.title(\"Training and validation accuracy\")\n",
        "plt.xlabel(\"Epochs\")\n",
        "plt.ylabel(\"Accuracy\")\n",
        "plt.legend()\n",
        "plt.show()"
      ],
      "metadata": {
        "colab": {
          "base_uri": "https://localhost:8080/",
          "height": 295
        },
        "id": "i1WkX32DvXP-",
        "outputId": "47e3b58f-c9ca-4ee6-f080-cf96de55e39c"
      },
      "execution_count": 18,
      "outputs": [
        {
          "output_type": "display_data",
          "data": {
            "image/png": "[encoded data removed]",
            "text/plain": [
              "<Figure size 432x288 with 1 Axes>"
            ]
          },
          "metadata": {
            "needs_background": "light"
          }
        }
      ]
    },
    {
      "cell_type": "markdown",
      "source": [
        "From the above plots, we observed that minimum validation loss and maximum validation accuracy is observed at 3 to 5 epochs.  After that we observe two trends.\n",
        "* validation loss increase and training loss in decrease.\n",
        "* validation accuracy decrease and training accuracy increase.\n",
        "\n",
        "The above implications implies that the model is getting better at classifying the training data, it makes consistent worse predictions when it encounters new and unseen data which is overfitting. After 5th epoch the model begins to fit too closely to the training data.\n",
        "\n",
        "To address the overfitting, the number of epoch is reduced to somewhere between 3 and 5 epochs. The epochs may vary depending on the machine and due the nature of weights that are randomly assigned."
      ],
      "metadata": {
        "id": "g91Pl3ziwKcy"
      }
    },
    {
      "cell_type": "markdown",
      "source": [
        "**Retraining our model**"
      ],
      "metadata": {
        "id": "fuRKlOMnq7ij"
      }
    },
    {
      "cell_type": "markdown",
      "source": [
        "four epochs are used in retraining the model"
      ],
      "metadata": {
        "id": "f0egmPdxt8yy"
      }
    },
    {
      "cell_type": "code",
      "source": [
        "\n",
        "model = keras.Sequential([\n",
        "    layers.Dense(16, activation=\"relu\"),\n",
        "    layers.Dense(16, activation=\"relu\"),\n",
        "    layers.Dense(1, activation=\"sigmoid\")\n",
        "])\n",
        "model.compile(optimizer=\"rmsprop\",\n",
        "              loss=\"binary_crossentropy\",\n",
        "              metrics=[\"accuracy\"])\n",
        "\n",
        "model.fit(x_train, y_train, epochs=3, batch_size=512)     \n",
        "results = model.evaluate(x_test, y_test)"
      ],
      "metadata": {
        "colab": {
          "base_uri": "https://localhost:8080/"
        },
        "id": "AY9vAidMwK16",
        "outputId": "d5305720-8dc5-4830-e8b7-03ba483e3c8c"
      },
      "execution_count": 19,
      "outputs": [
        {
          "output_type": "stream",
          "name": "stdout",
          "text": [
            "Epoch 1/3\n",
            "49/49 [==============================] - 2s 34ms/step - loss: 0.4556 - accuracy: 0.8220\n",
            "Epoch 2/3\n",
            "49/49 [==============================] - 1s 30ms/step - loss: 0.2633 - accuracy: 0.9069\n",
            "Epoch 3/3\n",
            "49/49 [==============================] - 2s 41ms/step - loss: 0.2021 - accuracy: 0.9289\n",
            "782/782 [==============================] - 3s 3ms/step - loss: 0.2812 - accuracy: 0.8882\n"
          ]
        }
      ]
    },
    {
      "cell_type": "code",
      "source": [
        "results"
      ],
      "metadata": {
        "colab": {
          "base_uri": "https://localhost:8080/"
        },
        "id": "-4jQHy36wrnz",
        "outputId": "00c0990f-a61a-414d-b548-70157c18e59b"
      },
      "execution_count": 20,
      "outputs": [
        {
          "output_type": "execute_result",
          "data": {
            "text/plain": [
              "[0.2811729609966278, 0.888159990310669]"
            ]
          },
          "metadata": {},
          "execution_count": 20
        }
      ]
    },
    {
      "cell_type": "markdown",
      "source": [
        " **1.  You used two hidden layers. Try using one or three hidden layers, and see how doing so affects validation and test accuracy.**   "
      ],
      "metadata": {
        "id": "FwwDyiRQxiWR"
      }
    },
    {
      "cell_type": "code",
      "source": [
        "# model is built using three hidden layers with relu activation function\n",
        "model_13 = keras.Sequential([\n",
        "    layers.Dense(16, activation=\"relu\"),\n",
        "    layers.Dense(16, activation=\"relu\"),\n",
        "    layers.Dense(16, activation=\"relu\"),\n",
        "    layers.Dense(1, activation=\"sigmoid\")\n",
        "])\n",
        "\n",
        "# # model is built using one hidden layer with relu activation function\n",
        "model_11 = keras.Sequential([\n",
        "    layers.Dense(16, activation=\"relu\"),\n",
        "    layers.Dense(1, activation=\"sigmoid\")\n",
        "])"
      ],
      "metadata": {
        "id": "GpogSGR2yZRd"
      },
      "execution_count": 21,
      "outputs": []
    },
    {
      "cell_type": "code",
      "source": [
        "#using RMSProp and binary cross entropy for both the three and one hidden layers.\n",
        "model_13.compile(optimizer=\"rmsprop\",\n",
        "              loss=\"binary_crossentropy\",\n",
        "              metrics=[\"accuracy\"])\n",
        "\n",
        "model_11.compile(optimizer=\"rmsprop\",\n",
        "              loss=\"binary_crossentropy\",\n",
        "              metrics=[\"accuracy\"])"
      ],
      "metadata": {
        "id": "kF2DkUljy0Cd"
      },
      "execution_count": 22,
      "outputs": []
    },
    {
      "cell_type": "code",
      "source": [
        "# Here the fitting of the model is done by taking 20 epochs with batch size of 512.\n",
        "history_13 = model_13.fit(partial_x_train,\n",
        "                    partial_y_train,\n",
        "                    epochs=20,\n",
        "                    batch_size=512,\n",
        "                    validation_data=(x_val, y_val))\n",
        "\n",
        "history_11 = model_11.fit(partial_x_train,\n",
        "                    partial_y_train,\n",
        "                    epochs=20,\n",
        "                    batch_size=512,\n",
        "                    validation_data=(x_val, y_val))"
      ],
      "metadata": {
        "colab": {
          "base_uri": "https://localhost:8080/"
        },
        "id": "bqSmSl3rzSXg",
        "outputId": "c883c619-8b25-4ee7-debc-0fba6fe72950"
      },
      "execution_count": 23,
      "outputs": [
        {
          "output_type": "stream",
          "name": "stdout",
          "text": [
            "Epoch 1/20\n",
            "30/30 [==============================] - 3s 63ms/step - loss: 0.5559 - accuracy: 0.7432 - val_loss: 0.4204 - val_accuracy: 0.8543\n",
            "Epoch 2/20\n",
            "30/30 [==============================] - 1s 42ms/step - loss: 0.3290 - accuracy: 0.8987 - val_loss: 0.3217 - val_accuracy: 0.8805\n",
            "Epoch 3/20\n",
            "30/30 [==============================] - 1s 42ms/step - loss: 0.2299 - accuracy: 0.9269 - val_loss: 0.2852 - val_accuracy: 0.8885\n",
            "Epoch 4/20\n",
            "30/30 [==============================] - 1s 45ms/step - loss: 0.1812 - accuracy: 0.9391 - val_loss: 0.2915 - val_accuracy: 0.8850\n",
            "Epoch 5/20\n",
            "30/30 [==============================] - 1s 42ms/step - loss: 0.1440 - accuracy: 0.9530 - val_loss: 0.3033 - val_accuracy: 0.8796\n",
            "Epoch 6/20\n",
            "30/30 [==============================] - 1s 39ms/step - loss: 0.1146 - accuracy: 0.9645 - val_loss: 0.3724 - val_accuracy: 0.8647\n",
            "Epoch 7/20\n",
            "30/30 [==============================] - 1s 39ms/step - loss: 0.0917 - accuracy: 0.9737 - val_loss: 0.3188 - val_accuracy: 0.8824\n",
            "Epoch 8/20\n",
            "30/30 [==============================] - 1s 38ms/step - loss: 0.0771 - accuracy: 0.9778 - val_loss: 0.4187 - val_accuracy: 0.8624\n",
            "Epoch 9/20\n",
            "30/30 [==============================] - 1s 43ms/step - loss: 0.0624 - accuracy: 0.9827 - val_loss: 0.3692 - val_accuracy: 0.8806\n",
            "Epoch 10/20\n",
            "30/30 [==============================] - 1s 43ms/step - loss: 0.0508 - accuracy: 0.9861 - val_loss: 0.4107 - val_accuracy: 0.8769\n",
            "Epoch 11/20\n",
            "30/30 [==============================] - 1s 39ms/step - loss: 0.0360 - accuracy: 0.9912 - val_loss: 0.4419 - val_accuracy: 0.8747\n",
            "Epoch 12/20\n",
            "30/30 [==============================] - 1s 48ms/step - loss: 0.0325 - accuracy: 0.9917 - val_loss: 0.4651 - val_accuracy: 0.8740\n",
            "Epoch 13/20\n",
            "30/30 [==============================] - 1s 39ms/step - loss: 0.0220 - accuracy: 0.9961 - val_loss: 0.7094 - val_accuracy: 0.8374\n",
            "Epoch 14/20\n",
            "30/30 [==============================] - 1s 46ms/step - loss: 0.0167 - accuracy: 0.9971 - val_loss: 0.5460 - val_accuracy: 0.8703\n",
            "Epoch 15/20\n",
            "30/30 [==============================] - 1s 50ms/step - loss: 0.0149 - accuracy: 0.9967 - val_loss: 0.5929 - val_accuracy: 0.8690\n",
            "Epoch 16/20\n",
            "30/30 [==============================] - 1s 38ms/step - loss: 0.0155 - accuracy: 0.9964 - val_loss: 0.6166 - val_accuracy: 0.8692\n",
            "Epoch 17/20\n",
            "30/30 [==============================] - 1s 45ms/step - loss: 0.0053 - accuracy: 0.9997 - val_loss: 0.6501 - val_accuracy: 0.8698\n",
            "Epoch 18/20\n",
            "30/30 [==============================] - 1s 40ms/step - loss: 0.0133 - accuracy: 0.9959 - val_loss: 0.6896 - val_accuracy: 0.8671\n",
            "Epoch 19/20\n",
            "30/30 [==============================] - 1s 48ms/step - loss: 0.0029 - accuracy: 0.9998 - val_loss: 0.7212 - val_accuracy: 0.8666\n",
            "Epoch 20/20\n",
            "30/30 [==============================] - 1s 44ms/step - loss: 0.0107 - accuracy: 0.9971 - val_loss: 0.7507 - val_accuracy: 0.8658\n",
            "Epoch 1/20\n",
            "30/30 [==============================] - 2s 51ms/step - loss: 0.4948 - accuracy: 0.7981 - val_loss: 0.3846 - val_accuracy: 0.8737\n",
            "Epoch 2/20\n",
            "30/30 [==============================] - 1s 48ms/step - loss: 0.3126 - accuracy: 0.9049 - val_loss: 0.3271 - val_accuracy: 0.8753\n",
            "Epoch 3/20\n",
            "30/30 [==============================] - 1s 42ms/step - loss: 0.2427 - accuracy: 0.9253 - val_loss: 0.2935 - val_accuracy: 0.8867\n",
            "Epoch 4/20\n",
            "30/30 [==============================] - 1s 39ms/step - loss: 0.2002 - accuracy: 0.9381 - val_loss: 0.2803 - val_accuracy: 0.8873\n",
            "Epoch 5/20\n",
            "30/30 [==============================] - 1s 46ms/step - loss: 0.1692 - accuracy: 0.9489 - val_loss: 0.2738 - val_accuracy: 0.8921\n",
            "Epoch 6/20\n",
            "30/30 [==============================] - 2s 52ms/step - loss: 0.1468 - accuracy: 0.9561 - val_loss: 0.2756 - val_accuracy: 0.8885\n",
            "Epoch 7/20\n",
            "30/30 [==============================] - 2s 62ms/step - loss: 0.1290 - accuracy: 0.9620 - val_loss: 0.2799 - val_accuracy: 0.8884\n",
            "Epoch 8/20\n",
            "30/30 [==============================] - 2s 53ms/step - loss: 0.1123 - accuracy: 0.9692 - val_loss: 0.3008 - val_accuracy: 0.8797\n",
            "Epoch 9/20\n",
            "30/30 [==============================] - 1s 50ms/step - loss: 0.0995 - accuracy: 0.9735 - val_loss: 0.3001 - val_accuracy: 0.8828\n",
            "Epoch 10/20\n",
            "30/30 [==============================] - 1s 39ms/step - loss: 0.0877 - accuracy: 0.9782 - val_loss: 0.3095 - val_accuracy: 0.8839\n",
            "Epoch 11/20\n",
            "30/30 [==============================] - 1s 39ms/step - loss: 0.0783 - accuracy: 0.9808 - val_loss: 0.3225 - val_accuracy: 0.8800\n",
            "Epoch 12/20\n",
            "30/30 [==============================] - 1s 38ms/step - loss: 0.0695 - accuracy: 0.9837 - val_loss: 0.3350 - val_accuracy: 0.8793\n",
            "Epoch 13/20\n",
            "30/30 [==============================] - 1s 50ms/step - loss: 0.0618 - accuracy: 0.9860 - val_loss: 0.3537 - val_accuracy: 0.8813\n",
            "Epoch 14/20\n",
            "30/30 [==============================] - 2s 51ms/step - loss: 0.0538 - accuracy: 0.9895 - val_loss: 0.3630 - val_accuracy: 0.8790\n",
            "Epoch 15/20\n",
            "30/30 [==============================] - 1s 43ms/step - loss: 0.0489 - accuracy: 0.9909 - val_loss: 0.3807 - val_accuracy: 0.8774\n",
            "Epoch 16/20\n",
            "30/30 [==============================] - 1s 39ms/step - loss: 0.0420 - accuracy: 0.9931 - val_loss: 0.3970 - val_accuracy: 0.8756\n",
            "Epoch 17/20\n",
            "30/30 [==============================] - 1s 40ms/step - loss: 0.0376 - accuracy: 0.9927 - val_loss: 0.4135 - val_accuracy: 0.8757\n",
            "Epoch 18/20\n",
            "30/30 [==============================] - 1s 48ms/step - loss: 0.0324 - accuracy: 0.9953 - val_loss: 0.4327 - val_accuracy: 0.8731\n",
            "Epoch 19/20\n",
            "30/30 [==============================] - 1s 47ms/step - loss: 0.0283 - accuracy: 0.9958 - val_loss: 0.4514 - val_accuracy: 0.8736\n",
            "Epoch 20/20\n",
            "30/30 [==============================] - 1s 47ms/step - loss: 0.0252 - accuracy: 0.9966 - val_loss: 0.4716 - val_accuracy: 0.8711\n"
          ]
        }
      ]
    },
    {
      "cell_type": "markdown",
      "source": [
        "Plotting training and validation loss"
      ],
      "metadata": {
        "id": "Qw06JouV0Z9i"
      }
    },
    {
      "cell_type": "code",
      "source": [
        "historyp_13 = history_13.history\n",
        "historyp_13.keys()"
      ],
      "metadata": {
        "colab": {
          "base_uri": "https://localhost:8080/"
        },
        "id": "CEpkPS1N3GIA",
        "outputId": "f7721b68-dbb7-4a06-fa28-b3c7f336bbdf"
      },
      "execution_count": 24,
      "outputs": [
        {
          "output_type": "execute_result",
          "data": {
            "text/plain": [
              "dict_keys(['loss', 'accuracy', 'val_loss', 'val_accuracy'])"
            ]
          },
          "metadata": {},
          "execution_count": 24
        }
      ]
    },
    {
      "cell_type": "code",
      "source": [
        "historyp_11 = history_11.history\n",
        "historyp_11.keys()"
      ],
      "metadata": {
        "id": "F5Aa5fjo3vOe",
        "colab": {
          "base_uri": "https://localhost:8080/"
        },
        "outputId": "dd8fae59-8b1e-47da-9f5c-3f2a4d463f6f"
      },
      "execution_count": 25,
      "outputs": [
        {
          "output_type": "execute_result",
          "data": {
            "text/plain": [
              "dict_keys(['loss', 'accuracy', 'val_loss', 'val_accuracy'])"
            ]
          },
          "metadata": {},
          "execution_count": 25
        }
      ]
    },
    {
      "cell_type": "markdown",
      "source": [
        "Plotting training and testing loss"
      ],
      "metadata": {
        "id": "6NeJKzEe6j5y"
      }
    },
    {
      "cell_type": "code",
      "source": [
        "\n",
        "historyp_13 = history_13.history\n",
        "loss_values3 = historyp_13[\"loss\"]\n",
        "val_loss_values3 = historyp_13[\"val_loss\"]            #plotting the losses\n",
        "epochs = range(1, len(loss_values) + 1)\n",
        "plt.plot(epochs, loss_values3, \"bo\", label=\"Training loss\")\n",
        "plt.plot(epochs, val_loss_values3, \"b\", label=\"Validation loss\")\n",
        "plt.title(\"Training and validation loss\")\n",
        "plt.xlabel(\"Epochs\")\n",
        "plt.ylabel(\"Loss\")\n",
        "plt.legend()\n",
        "plt.show()"
      ],
      "metadata": {
        "id": "DFhWu0gc0V1Q",
        "colab": {
          "base_uri": "https://localhost:8080/",
          "height": 295
        },
        "outputId": "b41dbeba-24de-40c3-8648-75b3a2d950bf"
      },
      "execution_count": 26,
      "outputs": [
        {
          "output_type": "display_data",
          "data": {
            "image/png": "[encoded data removed]",
            "text/plain": [
              "<Figure size 432x288 with 1 Axes>"
            ]
          },
          "metadata": {
            "needs_background": "light"
          }
        }
      ]
    },
    {
      "cell_type": "markdown",
      "source": [
        "Here, the minimum validation loss is observed at 5th epoch"
      ],
      "metadata": {
        "id": "QQy76qvXwaxI"
      }
    },
    {
      "cell_type": "code",
      "source": [
        "historyp_11 = history_11.history\n",
        "loss_values1 = historyp_11[\"loss\"]\n",
        "val_loss_values1 = historyp_11[\"val_loss\"]           #plotting the losses\n",
        "epochs = range(1, len(loss_values) + 1)\n",
        "plt.plot(epochs, loss_values1, \"bo\", label=\"Training loss\")\n",
        "plt.plot(epochs, val_loss_values1, \"b\", label=\"Validation loss\")\n",
        "plt.title(\"Training and validation loss\")\n",
        "plt.xlabel(\"Epochs\")\n",
        "plt.ylabel(\"Loss\")\n",
        "plt.legend()\n",
        "plt.show()"
      ],
      "metadata": {
        "id": "TByjsW5B4wXc",
        "colab": {
          "base_uri": "https://localhost:8080/",
          "height": 295
        },
        "outputId": "f8859c42-ed7e-4629-8247-2bc14df9dd01"
      },
      "execution_count": 27,
      "outputs": [
        {
          "output_type": "display_data",
          "data": {
            "image/png": "[encoded data removed]",
            "text/plain": [
              "<Figure size 432x288 with 1 Axes>"
            ]
          },
          "metadata": {
            "needs_background": "light"
          }
        }
      ]
    },
    {
      "cell_type": "markdown",
      "source": [
        "Here, the minimum validation loss is observed at 5th epoch"
      ],
      "metadata": {
        "id": "U4H7GYKswo8o"
      }
    },
    {
      "cell_type": "markdown",
      "source": [
        "Plotting training and testing accuracy"
      ],
      "metadata": {
        "id": "Fd4ohrJ06KLM"
      }
    },
    {
      "cell_type": "code",
      "source": [
        "plt.clf()\n",
        "acc3 = historyp_13[\"accuracy\"]\n",
        "val_acc3 = historyp_13[\"val_accuracy\"]           #plotting the accuracy \n",
        "plt.plot(epochs, acc3, \"bo\", label=\"Training acc\")\n",
        "plt.plot(epochs, val_acc3, \"b\", label=\"Validation acc\")\n",
        "plt.title(\"Training and validation accuracy\")\n",
        "plt.xlabel(\"Epochs\")\n",
        "plt.ylabel(\"Accuracy\")\n",
        "plt.legend()\n",
        "plt.show()"
      ],
      "metadata": {
        "id": "ccrjlVN_6JJO",
        "colab": {
          "base_uri": "https://localhost:8080/",
          "height": 295
        },
        "outputId": "f21ff8cb-e74f-4a2e-c6a6-b0c114c510c5"
      },
      "execution_count": 28,
      "outputs": [
        {
          "output_type": "display_data",
          "data": {
            "image/png": "[encoded data removed]",
            "text/plain": [
              "<Figure size 432x288 with 1 Axes>"
            ]
          },
          "metadata": {
            "needs_background": "light"
          }
        }
      ]
    },
    {
      "cell_type": "markdown",
      "source": [
        "Here, the maximum validation accuracy is observed at 5th epoch"
      ],
      "metadata": {
        "id": "HP-Q6MwewyAD"
      }
    },
    {
      "cell_type": "code",
      "source": [
        "plt.clf()\n",
        "acc1 = historyp_11[\"accuracy\"]\n",
        "val_acc1 = historyp_11[\"val_accuracy\"]          #plotting the accuracy\n",
        "plt.plot(epochs, acc1, \"bo\", label=\"Training acc\")\n",
        "plt.plot(epochs, val_acc1, \"b\", label=\"Validation acc\")\n",
        "plt.title(\"Training and validation accuracy\")\n",
        "plt.xlabel(\"Epochs\")\n",
        "plt.ylabel(\"Accuracy\")\n",
        "plt.legend()\n",
        "plt.show()"
      ],
      "metadata": {
        "id": "LlEmFDSV6Qhd",
        "colab": {
          "base_uri": "https://localhost:8080/",
          "height": 295
        },
        "outputId": "f6fa4755-99fb-464a-c44f-f6e9c890ea25"
      },
      "execution_count": 29,
      "outputs": [
        {
          "output_type": "display_data",
          "data": {
            "image/png": "[encoded data removed]",
            "text/plain": [
              "<Figure size 432x288 with 1 Axes>"
            ]
          },
          "metadata": {
            "needs_background": "light"
          }
        }
      ]
    },
    {
      "cell_type": "markdown",
      "source": [
        "Here, the maximum vallidation accuracy is observed at 5th epoch."
      ],
      "metadata": {
        "id": "V3gTnnV1w4ai"
      }
    },
    {
      "cell_type": "markdown",
      "source": [
        " **2. Try using layers with more hidden units or fewer hidden units: 32 units, 64 units, and so on.**   \n",
        "\n",
        "\n",
        "\n"
      ],
      "metadata": {
        "id": "J__QkNSI-4uv"
      }
    },
    {
      "cell_type": "code",
      "source": [
        "#model is built using 2 hidden layers with 32 and 64 nodes.\n",
        "model_2 = keras.Sequential([\n",
        "    layers.Dense(32, activation=\"relu\"),\n",
        "    layers.Dense(64, activation=\"relu\"),\n",
        "    layers.Dense(1, activation=\"sigmoid\")\n",
        "])"
      ],
      "metadata": {
        "id": "J9jFmeaL-ir5"
      },
      "execution_count": 30,
      "outputs": []
    },
    {
      "cell_type": "code",
      "source": [
        "#using RMSProp and binary cross entropy \n",
        "model_2.compile(optimizer=\"rmsprop\",\n",
        "              loss=\"binary_crossentropy\",\n",
        "              metrics=[\"accuracy\"])"
      ],
      "metadata": {
        "id": "nTmpWMkN_Rs1"
      },
      "execution_count": 31,
      "outputs": []
    },
    {
      "cell_type": "code",
      "source": [
        "# Here the fitting of the model is done by taking 20 epochs with batch size of 512.\n",
        "history2 = model_2.fit(partial_x_train,\n",
        "                    partial_y_train,\n",
        "                    epochs=20,\n",
        "                    batch_size=512,\n",
        "                    validation_data=(x_val, y_val))"
      ],
      "metadata": {
        "colab": {
          "base_uri": "https://localhost:8080/"
        },
        "id": "MLiUQZR4_Zum",
        "outputId": "5bf25e81-ed0f-43e9-d275-3b02787361d1"
      },
      "execution_count": 32,
      "outputs": [
        {
          "output_type": "stream",
          "name": "stdout",
          "text": [
            "Epoch 1/20\n",
            "30/30 [==============================] - 3s 67ms/step - loss: 0.4865 - accuracy: 0.7809 - val_loss: 0.3455 - val_accuracy: 0.8744\n",
            "Epoch 2/20\n",
            "30/30 [==============================] - 2s 57ms/step - loss: 0.2714 - accuracy: 0.9046 - val_loss: 0.2855 - val_accuracy: 0.8888\n",
            "Epoch 3/20\n",
            "30/30 [==============================] - 2s 60ms/step - loss: 0.1963 - accuracy: 0.9308 - val_loss: 0.2744 - val_accuracy: 0.8923\n",
            "Epoch 4/20\n",
            "30/30 [==============================] - 2s 60ms/step - loss: 0.1642 - accuracy: 0.9408 - val_loss: 0.3017 - val_accuracy: 0.8818\n",
            "Epoch 5/20\n",
            "30/30 [==============================] - 2s 53ms/step - loss: 0.1128 - accuracy: 0.9631 - val_loss: 0.3386 - val_accuracy: 0.8745\n",
            "Epoch 6/20\n",
            "30/30 [==============================] - 2s 59ms/step - loss: 0.0938 - accuracy: 0.9693 - val_loss: 0.3465 - val_accuracy: 0.8798\n",
            "Epoch 7/20\n",
            "30/30 [==============================] - 2s 60ms/step - loss: 0.0745 - accuracy: 0.9763 - val_loss: 0.3597 - val_accuracy: 0.8814\n",
            "Epoch 8/20\n",
            "30/30 [==============================] - 1s 48ms/step - loss: 0.0639 - accuracy: 0.9802 - val_loss: 0.3935 - val_accuracy: 0.8788\n",
            "Epoch 9/20\n",
            "30/30 [==============================] - 2s 52ms/step - loss: 0.0502 - accuracy: 0.9847 - val_loss: 0.4277 - val_accuracy: 0.8753\n",
            "Epoch 10/20\n",
            "30/30 [==============================] - 1s 49ms/step - loss: 0.0367 - accuracy: 0.9893 - val_loss: 0.4605 - val_accuracy: 0.8769\n",
            "Epoch 11/20\n",
            "30/30 [==============================] - 1s 46ms/step - loss: 0.0283 - accuracy: 0.9925 - val_loss: 0.4964 - val_accuracy: 0.8745\n",
            "Epoch 12/20\n",
            "30/30 [==============================] - 1s 47ms/step - loss: 0.0129 - accuracy: 0.9983 - val_loss: 0.7950 - val_accuracy: 0.8361\n",
            "Epoch 13/20\n",
            "30/30 [==============================] - 1s 46ms/step - loss: 0.0128 - accuracy: 0.9976 - val_loss: 0.6108 - val_accuracy: 0.8684\n",
            "Epoch 14/20\n",
            "30/30 [==============================] - 1s 46ms/step - loss: 0.0231 - accuracy: 0.9928 - val_loss: 0.6242 - val_accuracy: 0.8720\n",
            "Epoch 15/20\n",
            "30/30 [==============================] - 2s 54ms/step - loss: 0.0036 - accuracy: 0.9999 - val_loss: 0.6691 - val_accuracy: 0.8693\n",
            "Epoch 16/20\n",
            "30/30 [==============================] - 2s 60ms/step - loss: 0.0209 - accuracy: 0.9947 - val_loss: 0.7113 - val_accuracy: 0.8688\n",
            "Epoch 17/20\n",
            "30/30 [==============================] - 2s 51ms/step - loss: 0.0016 - accuracy: 0.9999 - val_loss: 0.7461 - val_accuracy: 0.8697\n",
            "Epoch 18/20\n",
            "30/30 [==============================] - 2s 51ms/step - loss: 0.0012 - accuracy: 0.9999 - val_loss: 0.7940 - val_accuracy: 0.8686\n",
            "Epoch 19/20\n",
            "30/30 [==============================] - 2s 60ms/step - loss: 0.0187 - accuracy: 0.9948 - val_loss: 0.8299 - val_accuracy: 0.8668\n",
            "Epoch 20/20\n",
            "30/30 [==============================] - 2s 60ms/step - loss: 5.8791e-04 - accuracy: 1.0000 - val_loss: 0.8507 - val_accuracy: 0.8676\n"
          ]
        }
      ]
    },
    {
      "cell_type": "code",
      "source": [
        "historyp2 = history2.history\n",
        "loss_values = historyp2[\"loss\"]\n",
        "val_loss_values = historyp2[\"val_loss\"]\n",
        "epochs = range(1, len(loss_values) + 1)\n",
        "plt.plot(epochs, loss_values, \"bo\", label=\"Training loss\")\n",
        "plt.plot(epochs, val_loss_values, \"b\", label=\"Validation loss\")\n",
        "plt.title(\"Training and validation loss\")\n",
        "plt.xlabel(\"Epochs\")\n",
        "plt.ylabel(\"Loss\")\n",
        "plt.legend()\n",
        "plt.show()\n",
        "\n",
        "plt.clf()\n",
        "acc = historyp2[\"accuracy\"]\n",
        "val_acc = historyp2[\"val_accuracy\"]\n",
        "plt.plot(epochs, acc, \"bo\", label=\"Training acc\")\n",
        "plt.plot(epochs, val_acc, \"b\", label=\"Validation acc\")\n",
        "plt.title(\"Training and validation accuracy\")\n",
        "plt.xlabel(\"Epochs\")\n",
        "plt.ylabel(\"Accuracy\")\n",
        "plt.legend()\n",
        "plt.show()"
      ],
      "metadata": {
        "colab": {
          "base_uri": "https://localhost:8080/",
          "height": 573
        },
        "id": "qoRzBi3J_7cj",
        "outputId": "716a03aa-c37b-4a6b-fa9f-f993984a2644"
      },
      "execution_count": 33,
      "outputs": [
        {
          "output_type": "display_data",
          "data": {
            "image/png": "[encoded data removed]",
            "text/plain": [
              "<Figure size 432x288 with 1 Axes>"
            ]
          },
          "metadata": {
            "needs_background": "light"
          }
        },
        {
          "output_type": "display_data",
          "data": {
            "image/png": "[encoded data removed]",
            "text/plain": [
              "<Figure size 432x288 with 1 Axes>"
            ]
          },
          "metadata": {
            "needs_background": "light"
          }
        }
      ]
    },
    {
      "cell_type": "markdown",
      "source": [
        "The minimum validation loss is observed at 3rd epoch and maximum validation accuracy is observed at 3rd and 4th epochs."
      ],
      "metadata": {
        "id": "RpWt2Z-FxdMu"
      }
    },
    {
      "cell_type": "markdown",
      "source": [
        "**3. Try using the mse loss function instead of binary_crossentropy.** "
      ],
      "metadata": {
        "id": "_AM_i8l-DCHO"
      }
    },
    {
      "cell_type": "code",
      "source": [
        "model_3 = keras.Sequential([\n",
        "    layers.Dense(16, activation=\"relu\"),\n",
        "    layers.Dense(16, activation=\"relu\"),\n",
        "    layers.Dense(1, activation=\"sigmoid\")\n",
        "])"
      ],
      "metadata": {
        "id": "QA257SICDOYw"
      },
      "execution_count": 34,
      "outputs": []
    },
    {
      "cell_type": "code",
      "source": [
        "#using RMSProp and mse loss function \n",
        "model_3.compile(optimizer=\"rmsprop\",\n",
        "              loss=\"mse\",\n",
        "              metrics=[\"accuracy\"])"
      ],
      "metadata": {
        "id": "WZ2aP8ETDVxi"
      },
      "execution_count": 35,
      "outputs": []
    },
    {
      "cell_type": "code",
      "source": [
        "# Here the fitting of the model is done by taking 20 epochs with batch size of 512.\n",
        "history3 = model_3.fit(partial_x_train,\n",
        "                    partial_y_train,\n",
        "                    epochs=20,\n",
        "                    batch_size=512,\n",
        "                    validation_data=(x_val, y_val))"
      ],
      "metadata": {
        "colab": {
          "base_uri": "https://localhost:8080/"
        },
        "id": "XfYaAIyBDZjj",
        "outputId": "3f8e785b-d529-4666-c018-16ebc78df8e8"
      },
      "execution_count": 36,
      "outputs": [
        {
          "output_type": "stream",
          "name": "stdout",
          "text": [
            "Epoch 1/20\n",
            "30/30 [==============================] - 3s 61ms/step - loss: 0.1844 - accuracy: 0.7741 - val_loss: 0.1325 - val_accuracy: 0.8514\n",
            "Epoch 2/20\n",
            "30/30 [==============================] - 1s 45ms/step - loss: 0.1006 - accuracy: 0.8983 - val_loss: 0.0986 - val_accuracy: 0.8809\n",
            "Epoch 3/20\n",
            "30/30 [==============================] - 1s 38ms/step - loss: 0.0688 - accuracy: 0.9281 - val_loss: 0.0966 - val_accuracy: 0.8738\n",
            "Epoch 4/20\n",
            "30/30 [==============================] - 1s 39ms/step - loss: 0.0527 - accuracy: 0.9441 - val_loss: 0.0851 - val_accuracy: 0.8868\n",
            "Epoch 5/20\n",
            "30/30 [==============================] - 1s 39ms/step - loss: 0.0430 - accuracy: 0.9547 - val_loss: 0.0831 - val_accuracy: 0.8870\n",
            "Epoch 6/20\n",
            "30/30 [==============================] - 1s 46ms/step - loss: 0.0328 - accuracy: 0.9668 - val_loss: 0.0916 - val_accuracy: 0.8750\n",
            "Epoch 7/20\n",
            "30/30 [==============================] - 1s 37ms/step - loss: 0.0276 - accuracy: 0.9727 - val_loss: 0.0859 - val_accuracy: 0.8820\n",
            "Epoch 8/20\n",
            "30/30 [==============================] - 1s 45ms/step - loss: 0.0231 - accuracy: 0.9783 - val_loss: 0.0909 - val_accuracy: 0.8775\n",
            "Epoch 9/20\n",
            "30/30 [==============================] - 1s 46ms/step - loss: 0.0187 - accuracy: 0.9837 - val_loss: 0.0904 - val_accuracy: 0.8794\n",
            "Epoch 10/20\n",
            "30/30 [==============================] - 1s 38ms/step - loss: 0.0147 - accuracy: 0.9873 - val_loss: 0.0940 - val_accuracy: 0.8765\n",
            "Epoch 11/20\n",
            "30/30 [==============================] - 2s 52ms/step - loss: 0.0129 - accuracy: 0.9900 - val_loss: 0.0959 - val_accuracy: 0.8751\n",
            "Epoch 12/20\n",
            "30/30 [==============================] - 1s 38ms/step - loss: 0.0106 - accuracy: 0.9911 - val_loss: 0.0966 - val_accuracy: 0.8756\n",
            "Epoch 13/20\n",
            "30/30 [==============================] - 1s 45ms/step - loss: 0.0088 - accuracy: 0.9930 - val_loss: 0.0982 - val_accuracy: 0.8743\n",
            "Epoch 14/20\n",
            "30/30 [==============================] - 1s 44ms/step - loss: 0.0060 - accuracy: 0.9957 - val_loss: 0.1045 - val_accuracy: 0.8681\n",
            "Epoch 15/20\n",
            "30/30 [==============================] - 1s 49ms/step - loss: 0.0074 - accuracy: 0.9937 - val_loss: 0.1016 - val_accuracy: 0.8721\n",
            "Epoch 16/20\n",
            "30/30 [==============================] - 1s 49ms/step - loss: 0.0043 - accuracy: 0.9967 - val_loss: 0.1035 - val_accuracy: 0.8709\n",
            "Epoch 17/20\n",
            "30/30 [==============================] - 1s 49ms/step - loss: 0.0057 - accuracy: 0.9947 - val_loss: 0.1050 - val_accuracy: 0.8705\n",
            "Epoch 18/20\n",
            "30/30 [==============================] - 1s 48ms/step - loss: 0.0034 - accuracy: 0.9972 - val_loss: 0.1065 - val_accuracy: 0.8683\n",
            "Epoch 19/20\n",
            "30/30 [==============================] - 1s 37ms/step - loss: 0.0046 - accuracy: 0.9955 - val_loss: 0.1077 - val_accuracy: 0.8687\n",
            "Epoch 20/20\n",
            "30/30 [==============================] - 1s 37ms/step - loss: 0.0027 - accuracy: 0.9976 - val_loss: 0.1098 - val_accuracy: 0.8668\n"
          ]
        }
      ]
    },
    {
      "cell_type": "markdown",
      "source": [
        "**Plotting training and testing loss**"
      ],
      "metadata": {
        "id": "NeM02vLKETI5"
      }
    },
    {
      "cell_type": "code",
      "source": [
        "historyp3 = history3.history\n",
        "loss_values = historyp3[\"loss\"]\n",
        "val_loss_values = historyp3[\"val_loss\"]             #plotting the losses\n",
        "epochs = range(1, len(loss_values) + 1)\n",
        "plt.plot(epochs, loss_values, \"bo\", label=\"Training loss\")\n",
        "plt.plot(epochs, val_loss_values, \"b\", label=\"Validation loss\")\n",
        "plt.title(\"Training and validation loss\")\n",
        "plt.xlabel(\"Epochs\")\n",
        "plt.ylabel(\"Loss\")\n",
        "plt.legend()\n",
        "plt.show()"
      ],
      "metadata": {
        "colab": {
          "base_uri": "https://localhost:8080/",
          "height": 295
        },
        "id": "Ohvf0JZCEowa",
        "outputId": "1b9c1521-5214-4102-d9a7-1d6ff7e37564"
      },
      "execution_count": 37,
      "outputs": [
        {
          "output_type": "display_data",
          "data": {
            "image/png": "[encoded data removed]",
            "text/plain": [
              "<Figure size 432x288 with 1 Axes>"
            ]
          },
          "metadata": {
            "needs_background": "light"
          }
        }
      ]
    },
    {
      "cell_type": "markdown",
      "source": [
        "Here, the minimum validation loss is observed in 3rd epoch."
      ],
      "metadata": {
        "id": "KNEnrLqDykgy"
      }
    },
    {
      "cell_type": "code",
      "source": [
        "plt.clf()\n",
        "acc = historyp3[\"accuracy\"]\n",
        "val_acc = historyp3[\"val_accuracy\"]            #plotting the accuracy plots\n",
        "plt.plot(epochs, acc, \"bo\", label=\"Training acc\")\n",
        "plt.plot(epochs, val_acc, \"b\", label=\"Validation acc\")\n",
        "plt.title(\"Training and validation accuracy\")\n",
        "plt.xlabel(\"Epochs\")\n",
        "plt.ylabel(\"Accuracy\")\n",
        "plt.legend()\n",
        "plt.show()"
      ],
      "metadata": {
        "colab": {
          "base_uri": "https://localhost:8080/",
          "height": 295
        },
        "id": "Waiw97eBFo5T",
        "outputId": "0798bdae-8b0a-459b-a27c-5483e618ee13"
      },
      "execution_count": 38,
      "outputs": [
        {
          "output_type": "display_data",
          "data": {
            "image/png": "[encoded data removed]",
            "text/plain": [
              "<Figure size 432x288 with 1 Axes>"
            ]
          },
          "metadata": {
            "needs_background": "light"
          }
        }
      ]
    },
    {
      "cell_type": "markdown",
      "source": [
        "Here, the maximum accuracy is observed in 2nd and 3rd epochs."
      ],
      "metadata": {
        "id": "q6UdI_Ojyudu"
      }
    },
    {
      "cell_type": "markdown",
      "source": [
        "**4. Try using the tanh activation (an activation that was popular in the early days of neural networks) instead of relu.**"
      ],
      "metadata": {
        "id": "bhrs25VLGINO"
      }
    },
    {
      "cell_type": "code",
      "source": [
        "#model is built using tanh activation function.\n",
        "model_4 = keras.Sequential([\n",
        "    layers.Dense(16, activation=\"tanh\"),\n",
        "    layers.Dense(16, activation=\"tanh\"),\n",
        "    layers.Dense(1, activation=\"sigmoid\")\n",
        "])"
      ],
      "metadata": {
        "id": "h4HxKoNGGWgg"
      },
      "execution_count": 39,
      "outputs": []
    },
    {
      "cell_type": "code",
      "source": [
        "#using RMSProp and binary cross entropy \n",
        "model_4.compile(optimizer=\"rmsprop\",\n",
        "              loss=\"mse\",\n",
        "              metrics=[\"accuracy\"])"
      ],
      "metadata": {
        "id": "K9DD0vPPGZBS"
      },
      "execution_count": 40,
      "outputs": []
    },
    {
      "cell_type": "code",
      "source": [
        "# Here the fitting of the model is done by taking 20 epochs with batch size of 512.\n",
        "history4 = model_4.fit(partial_x_train,\n",
        "                    partial_y_train,\n",
        "                    epochs=20,\n",
        "                    batch_size=512,\n",
        "                    validation_data=(x_val, y_val))"
      ],
      "metadata": {
        "colab": {
          "base_uri": "https://localhost:8080/"
        },
        "id": "Z37QsbXzHPPe",
        "outputId": "4638fb9a-0f5f-4203-eb64-6fc4c9a0e2ba"
      },
      "execution_count": 41,
      "outputs": [
        {
          "output_type": "stream",
          "name": "stdout",
          "text": [
            "Epoch 1/20\n",
            "30/30 [==============================] - 2s 61ms/step - loss: 0.1590 - accuracy: 0.7873 - val_loss: 0.1078 - val_accuracy: 0.8743\n",
            "Epoch 2/20\n",
            "30/30 [==============================] - 1s 42ms/step - loss: 0.0803 - accuracy: 0.9069 - val_loss: 0.0880 - val_accuracy: 0.8856\n",
            "Epoch 3/20\n",
            "30/30 [==============================] - 1s 37ms/step - loss: 0.0571 - accuracy: 0.9334 - val_loss: 0.0864 - val_accuracy: 0.8838\n",
            "Epoch 4/20\n",
            "30/30 [==============================] - 1s 39ms/step - loss: 0.0417 - accuracy: 0.9518 - val_loss: 0.0839 - val_accuracy: 0.8849\n",
            "Epoch 5/20\n",
            "30/30 [==============================] - 1s 37ms/step - loss: 0.0321 - accuracy: 0.9628 - val_loss: 0.0865 - val_accuracy: 0.8837\n",
            "Epoch 6/20\n",
            "30/30 [==============================] - 1s 42ms/step - loss: 0.0246 - accuracy: 0.9723 - val_loss: 0.0917 - val_accuracy: 0.8797\n",
            "Epoch 7/20\n",
            "30/30 [==============================] - 1s 46ms/step - loss: 0.0211 - accuracy: 0.9763 - val_loss: 0.0952 - val_accuracy: 0.8790\n",
            "Epoch 8/20\n",
            "30/30 [==============================] - 1s 37ms/step - loss: 0.0165 - accuracy: 0.9822 - val_loss: 0.0981 - val_accuracy: 0.8769\n",
            "Epoch 9/20\n",
            "30/30 [==============================] - 1s 48ms/step - loss: 0.0143 - accuracy: 0.9844 - val_loss: 0.1016 - val_accuracy: 0.8761\n",
            "Epoch 10/20\n",
            "30/30 [==============================] - 1s 46ms/step - loss: 0.0111 - accuracy: 0.9877 - val_loss: 0.1056 - val_accuracy: 0.8706\n",
            "Epoch 11/20\n",
            "30/30 [==============================] - 1s 47ms/step - loss: 0.0122 - accuracy: 0.9859 - val_loss: 0.1079 - val_accuracy: 0.8703\n",
            "Epoch 12/20\n",
            "30/30 [==============================] - 1s 47ms/step - loss: 0.0056 - accuracy: 0.9947 - val_loss: 0.1298 - val_accuracy: 0.8502\n",
            "Epoch 13/20\n",
            "30/30 [==============================] - 2s 54ms/step - loss: 0.0081 - accuracy: 0.9910 - val_loss: 0.1126 - val_accuracy: 0.8661\n",
            "Epoch 14/20\n",
            "30/30 [==============================] - 1s 46ms/step - loss: 0.0096 - accuracy: 0.9895 - val_loss: 0.1135 - val_accuracy: 0.8677\n",
            "Epoch 15/20\n",
            "30/30 [==============================] - 2s 54ms/step - loss: 0.0047 - accuracy: 0.9953 - val_loss: 0.1398 - val_accuracy: 0.8419\n",
            "Epoch 16/20\n",
            "30/30 [==============================] - 1s 41ms/step - loss: 0.0052 - accuracy: 0.9945 - val_loss: 0.1165 - val_accuracy: 0.8651\n",
            "Epoch 17/20\n",
            "30/30 [==============================] - 1s 44ms/step - loss: 0.0085 - accuracy: 0.9901 - val_loss: 0.1172 - val_accuracy: 0.8650\n",
            "Epoch 18/20\n",
            "30/30 [==============================] - 1s 40ms/step - loss: 0.0039 - accuracy: 0.9962 - val_loss: 0.1190 - val_accuracy: 0.8634\n",
            "Epoch 19/20\n",
            "30/30 [==============================] - 1s 44ms/step - loss: 0.0037 - accuracy: 0.9963 - val_loss: 0.1213 - val_accuracy: 0.8622\n",
            "Epoch 20/20\n",
            "30/30 [==============================] - 1s 39ms/step - loss: 0.0081 - accuracy: 0.9908 - val_loss: 0.1216 - val_accuracy: 0.8615\n"
          ]
        }
      ]
    },
    {
      "cell_type": "code",
      "source": [
        "historyp4 = history4.history\n",
        "loss_values = historyp4[\"loss\"]\n",
        "val_loss_values = historyp4[\"val_loss\"]\n",
        "epochs = range(1, len(loss_values) + 1)\n",
        "plt.plot(epochs, loss_values, \"bo\", label=\"Training loss\")\n",
        "plt.plot(epochs, val_loss_values, \"b\", label=\"Validation loss\")\n",
        "plt.title(\"Training and validation loss\")\n",
        "plt.xlabel(\"Epochs\")\n",
        "plt.ylabel(\"Loss\")\n",
        "plt.legend()\n",
        "plt.show()\n",
        "\n",
        "plt.clf()\n",
        "acc = historyp4[\"accuracy\"]\n",
        "val_acc = historyp4[\"val_accuracy\"]\n",
        "plt.plot(epochs, acc, \"bo\", label=\"Training acc\")\n",
        "plt.plot(epochs, val_acc, \"b\", label=\"Validation acc\")\n",
        "plt.title(\"Training and validation accuracy\")\n",
        "plt.xlabel(\"Epochs\")\n",
        "plt.ylabel(\"Accuracy\")\n",
        "plt.legend()"
      ],
      "metadata": {
        "colab": {
          "base_uri": "https://localhost:8080/",
          "height": 591
        },
        "id": "ekl6kARrHxoe",
        "outputId": "a0c26e39-9a3f-42fb-ea30-719d33867ce6"
      },
      "execution_count": 42,
      "outputs": [
        {
          "output_type": "display_data",
          "data": {
            "image/png": "[encoded data removed]",
            "text/plain": [
              "<Figure size 432x288 with 1 Axes>"
            ]
          },
          "metadata": {
            "needs_background": "light"
          }
        },
        {
          "output_type": "execute_result",
          "data": {
            "text/plain": [
              "<matplotlib.legend.Legend at 0x7f0e2e7f9750>"
            ]
          },
          "metadata": {},
          "execution_count": 42
        },
        {
          "output_type": "display_data",
          "data": {
            "image/png": "[encoded data removed]",
            "text/plain": [
              "<Figure size 432x288 with 1 Axes>"
            ]
          },
          "metadata": {
            "needs_background": "light"
          }
        }
      ]
    },
    {
      "cell_type": "markdown",
      "source": [
        "Here, the minimum validation loss is observed in 3rd epoch and maximum validation accuracy is observed in 3rd epoch."
      ],
      "metadata": {
        "id": "Yie4E9adzIP_"
      }
    },
    {
      "cell_type": "code",
      "source": [
        "results"
      ],
      "metadata": {
        "id": "0A8JC21oClHK",
        "colab": {
          "base_uri": "https://localhost:8080/"
        },
        "outputId": "05746659-d39a-4016-acf4-6584b965e7c2"
      },
      "execution_count": 43,
      "outputs": [
        {
          "output_type": "execute_result",
          "data": {
            "text/plain": [
              "[0.2811729609966278, 0.888159990310669]"
            ]
          },
          "metadata": {},
          "execution_count": 43
        }
      ]
    },
    {
      "cell_type": "markdown",
      "source": [
        "**5. Use any technique we studied in class, and these include regularization, dropout, etc., to get your model to perform better on validation.**"
      ],
      "metadata": {
        "id": "wMJJeNbCIJp3"
      }
    },
    {
      "cell_type": "code",
      "source": [
        "model_5 = keras.Sequential([\n",
        "    layers.Dense(32, activation=\"relu\"),\n",
        "    layers.Dropout(0.2),\n",
        "    layers.Dense(64, activation=\"relu\"),\n",
        "    layers.Dense(1, activation=\"sigmoid\")\n",
        "])"
      ],
      "metadata": {
        "id": "fZQX7GiIIhbK"
      },
      "execution_count": 44,
      "outputs": []
    },
    {
      "cell_type": "code",
      "source": [
        "#using RMSProp and binary cross entropy \n",
        "model_5.compile(optimizer=\"rmsprop\",\n",
        "              loss=\"binary_crossentropy\",\n",
        "              metrics=[\"accuracy\"])"
      ],
      "metadata": {
        "id": "CO2o2cRQI3dy"
      },
      "execution_count": 45,
      "outputs": []
    },
    {
      "cell_type": "code",
      "source": [
        "# Here the fitting of the model is done by taking 20 epochs with batch size of 512.\n",
        "history5 = model_5.fit(partial_x_train,\n",
        "                    partial_y_train,\n",
        "                    epochs=20,\n",
        "                    batch_size=512,\n",
        "                    validation_data=(x_val, y_val))"
      ],
      "metadata": {
        "colab": {
          "base_uri": "https://localhost:8080/"
        },
        "id": "CGm_Wh1NJCgy",
        "outputId": "d01db248-abdc-4032-d6bc-ba668742069e"
      },
      "execution_count": 46,
      "outputs": [
        {
          "output_type": "stream",
          "name": "stdout",
          "text": [
            "Epoch 1/20\n",
            "30/30 [==============================] - 3s 73ms/step - loss: 0.5088 - accuracy: 0.7677 - val_loss: 0.3873 - val_accuracy: 0.8377\n",
            "Epoch 2/20\n",
            "30/30 [==============================] - 1s 47ms/step - loss: 0.2863 - accuracy: 0.8954 - val_loss: 0.2798 - val_accuracy: 0.8914\n",
            "Epoch 3/20\n",
            "30/30 [==============================] - 1s 45ms/step - loss: 0.2072 - accuracy: 0.9245 - val_loss: 0.2754 - val_accuracy: 0.8900\n",
            "Epoch 4/20\n",
            "30/30 [==============================] - 1s 43ms/step - loss: 0.1646 - accuracy: 0.9396 - val_loss: 0.2909 - val_accuracy: 0.8873\n",
            "Epoch 5/20\n",
            "30/30 [==============================] - 1s 44ms/step - loss: 0.1281 - accuracy: 0.9559 - val_loss: 0.3492 - val_accuracy: 0.8761\n",
            "Epoch 6/20\n",
            "30/30 [==============================] - 1s 45ms/step - loss: 0.1019 - accuracy: 0.9639 - val_loss: 0.3271 - val_accuracy: 0.8855\n",
            "Epoch 7/20\n",
            "30/30 [==============================] - 1s 44ms/step - loss: 0.0798 - accuracy: 0.9725 - val_loss: 0.3560 - val_accuracy: 0.8813\n",
            "Epoch 8/20\n",
            "30/30 [==============================] - 2s 55ms/step - loss: 0.0621 - accuracy: 0.9807 - val_loss: 0.4009 - val_accuracy: 0.8804\n",
            "Epoch 9/20\n",
            "30/30 [==============================] - 2s 51ms/step - loss: 0.0430 - accuracy: 0.9874 - val_loss: 0.4615 - val_accuracy: 0.8754\n",
            "Epoch 10/20\n",
            "30/30 [==============================] - 2s 58ms/step - loss: 0.0383 - accuracy: 0.9886 - val_loss: 0.4819 - val_accuracy: 0.8733\n",
            "Epoch 11/20\n",
            "30/30 [==============================] - 2s 58ms/step - loss: 0.0326 - accuracy: 0.9899 - val_loss: 0.5032 - val_accuracy: 0.8742\n",
            "Epoch 12/20\n",
            "30/30 [==============================] - 2s 61ms/step - loss: 0.0278 - accuracy: 0.9915 - val_loss: 0.5498 - val_accuracy: 0.8749\n",
            "Epoch 13/20\n",
            "30/30 [==============================] - 2s 58ms/step - loss: 0.0096 - accuracy: 0.9989 - val_loss: 0.6090 - val_accuracy: 0.8741\n",
            "Epoch 14/20\n",
            "30/30 [==============================] - 1s 50ms/step - loss: 0.0270 - accuracy: 0.9926 - val_loss: 0.6326 - val_accuracy: 0.8731\n",
            "Epoch 15/20\n",
            "30/30 [==============================] - 1s 50ms/step - loss: 0.0052 - accuracy: 0.9994 - val_loss: 0.7063 - val_accuracy: 0.8711\n",
            "Epoch 16/20\n",
            "30/30 [==============================] - 2s 62ms/step - loss: 0.0041 - accuracy: 0.9996 - val_loss: 0.9453 - val_accuracy: 0.8570\n",
            "Epoch 17/20\n",
            "30/30 [==============================] - 2s 51ms/step - loss: 0.0074 - accuracy: 0.9985 - val_loss: 0.7924 - val_accuracy: 0.8690\n",
            "Epoch 18/20\n",
            "30/30 [==============================] - 1s 46ms/step - loss: 0.0019 - accuracy: 0.9999 - val_loss: 0.9117 - val_accuracy: 0.8703\n",
            "Epoch 19/20\n",
            "30/30 [==============================] - 2s 58ms/step - loss: 0.0128 - accuracy: 0.9961 - val_loss: 0.8798 - val_accuracy: 0.8701\n",
            "Epoch 20/20\n",
            "30/30 [==============================] - 1s 45ms/step - loss: 0.0017 - accuracy: 0.9997 - val_loss: 0.9162 - val_accuracy: 0.8725\n"
          ]
        }
      ]
    },
    {
      "cell_type": "code",
      "source": [
        "historyp5 = history5.history\n",
        "loss_values = historyp5[\"loss\"]\n",
        "val_loss_values = historyp5[\"val_loss\"]        #plotting the losses\n",
        "epochs = range(1, len(loss_values) + 1)\n",
        "plt.plot(epochs, loss_values, \"bo\", label=\"Training loss\")\n",
        "plt.plot(epochs, val_loss_values, \"b\", label=\"Validation loss\")\n",
        "plt.title(\"Training and validation loss\")\n",
        "plt.xlabel(\"Epochs\")\n",
        "plt.ylabel(\"Loss\")\n",
        "plt.legend()\n",
        "plt.show()\n",
        "\n",
        "plt.clf()\n",
        "acc = historyp5[\"accuracy\"]    \n",
        "val_acc = historyp5[\"val_accuracy\"]            #plotting the accuracy plots\n",
        "plt.plot(epochs, acc, \"bo\", label=\"Training acc\")\n",
        "plt.plot(epochs, val_acc, \"b\", label=\"Validation acc\")\n",
        "plt.title(\"Training and validation accuracy\")\n",
        "plt.xlabel(\"Epochs\")\n",
        "plt.ylabel(\"Accuracy\")\n",
        "plt.legend()\n",
        "plt.show()"
      ],
      "metadata": {
        "colab": {
          "base_uri": "https://localhost:8080/",
          "height": 573
        },
        "id": "OLuwSeG8JnSC",
        "outputId": "97733d12-2730-421f-e16c-3ae0f835eb5b"
      },
      "execution_count": 47,
      "outputs": [
        {
          "output_type": "display_data",
          "data": {
            "image/png": "[encoded data removed]",
            "text/plain": [
              "<Figure size 432x288 with 1 Axes>"
            ]
          },
          "metadata": {
            "needs_background": "light"
          }
        },
        {
          "output_type": "display_data",
          "data": {
            "image/png": "[encoded data removed]",
            "text/plain": [
              "<Figure size 432x288 with 1 Axes>"
            ]
          },
          "metadata": {
            "needs_background": "light"
          }
        }
      ]
    },
    {
      "cell_type": "markdown",
      "source": [
        "Here, the minimum validation loss is observed in 3rd epoch and maximum validation accuracy is observed in 3rd epoch."
      ],
      "metadata": {
        "id": "L5CFSpXmzhXE"
      }
    },
    {
      "cell_type": "code",
      "source": [
        "results"
      ],
      "metadata": {
        "id": "Dtz9X2FyJ32J",
        "colab": {
          "base_uri": "https://localhost:8080/"
        },
        "outputId": "dea5ae46-12c0-4a74-af48-5523b420fd16"
      },
      "execution_count": 48,
      "outputs": [
        {
          "output_type": "execute_result",
          "data": {
            "text/plain": [
              "[0.2811729609966278, 0.888159990310669]"
            ]
          },
          "metadata": {},
          "execution_count": 48
        }
      ]
    }
  ]
}