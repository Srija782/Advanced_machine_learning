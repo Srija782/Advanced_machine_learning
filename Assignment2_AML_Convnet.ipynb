{
  "nbformat": 4,
  "nbformat_minor": 0,
  "metadata": {
    "accelerator": "GPU",
    "colab": {
      "name": "Assignment2_AML_Convnet",
      "provenance": [],
      "collapsed_sections": [],
      "machine_shape": "hm",
      "include_colab_link": true
    },
    "kernelspec": {
      "display_name": "Python 3",
      "language": "python",
      "name": "python3"
    },
    "language_info": {
      "codemirror_mode": {
        "name": "ipython",
        "version": 3
      },
      "file_extension": ".py",
      "mimetype": "text/x-python",
      "name": "python",
      "nbconvert_exporter": "python",
      "pygments_lexer": "ipython3",
      "version": "3.7.0"
    }
  },
  "cells": [
    {
      "cell_type": "markdown",
      "metadata": {
        "id": "view-in-github",
        "colab_type": "text"
      },
      "source": [
        "<a href=\"https://colab.research.google.com/github/Janakisrija/64061/blob/main/Assignment2_AML_Convnet.ipynb\" target=\"_parent\"><img src=\"https://colab.research.google.com/assets/colab-badge.svg\" alt=\"Open In Colab\"/></a>"
      ]
    },
    {
      "cell_type": "markdown",
      "metadata": {
        "id": "M_w9GJQWLJf0"
      },
      "source": [
        "##**Assignment 2 - Convolution networks(Convnets) to image data."
      ]
    },
    {
      "cell_type": "markdown",
      "metadata": {
        "id": "QutUglegLJf8"
      },
      "source": [
        "\n",
        "### In this assignment, you will examine the relationship between training samples and the choice of training your model from scratch, versus using a pretrained convnet."
      ]
    },
    {
      "cell_type": "markdown",
      "source": [
        "###The training archive contains 25,000 images of dogs and cats. This dataset is a standard computer vision dataset that involves classifying photos as either containing a dog or a cat. "
      ],
      "metadata": {
        "id": "4f4pPW_py9Kv"
      }
    },
    {
      "cell_type": "markdown",
      "metadata": {
        "id": "iBiW9ZHHLJf9"
      },
      "source": [
        "### Downloading the data"
      ]
    },
    {
      "cell_type": "markdown",
      "source": [
        " Uploading the json file from kaggle to access the data from dogs-vs-cats dataset."
      ],
      "metadata": {
        "id": "9KjTsStQqbNf"
      }
    },
    {
      "cell_type": "code",
      "metadata": {
        "colab": {
          "resources": {
            "http://localhost:8080/nbextensions/google.colab/files.js": {
              "data": "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",
              "ok": true,
              "headers": [
                [
                  "content-type",
                  "application/javascript"
                ]
              ],
              "status": 200,
              "status_text": ""
            }
          },
          "base_uri": "https://localhost:8080/",
          "height": 91
        },
        "id": "viYjmM2HLJf9",
        "outputId": "e48decf9-c39a-437e-8f97-3d8760386efa"
      },
      "source": [
        "from google.colab import files\n",
        "files.upload()"
      ],
      "execution_count": null,
      "outputs": [
        {
          "output_type": "display_data",
          "data": {
            "text/plain": [
              "<IPython.core.display.HTML object>"
            ],
            "text/html": [
              "\n",
              "     <input type=\"file\" id=\"files-cf9a12aa-b80d-4316-ba8f-177e98c2852d\" name=\"files[]\" multiple disabled\n",
              "        style=\"border:none\" />\n",
              "     <output id=\"result-cf9a12aa-b80d-4316-ba8f-177e98c2852d\">\n",
              "      Upload widget is only available when the cell has been executed in the\n",
              "      current browser session. Please rerun this cell to enable.\n",
              "      </output>\n",
              "      <script src=\"/nbextensions/google.colab/files.js\"></script> "
            ]
          },
          "metadata": {}
        },
        {
          "output_type": "stream",
          "name": "stdout",
          "text": [
            "Saving kaggle.json to kaggle.json\n"
          ]
        },
        {
          "output_type": "execute_result",
          "data": {
            "text/plain": [
              "{'kaggle.json': b'{\"username\":\"janakisrijamaddukuri\",\"key\":\"6d56a38e359f620ff527dadb0aaf6415\"}'}"
            ]
          },
          "metadata": {},
          "execution_count": 1
        }
      ]
    },
    {
      "cell_type": "code",
      "metadata": {
        "id": "bnd8M_zRLJf9"
      },
      "source": [
        "!mkdir ~/.kaggle\n",
        "!cp kaggle.json ~/.kaggle/\n",
        "!chmod 600 ~/.kaggle/kaggle.json"
      ],
      "execution_count": null,
      "outputs": []
    },
    {
      "cell_type": "code",
      "metadata": {
        "colab": {
          "base_uri": "https://localhost:8080/"
        },
        "id": "606RcoSyLJf-",
        "outputId": "ef72e2fd-65d1-40b4-c129-e7b24d115b26"
      },
      "source": [
        "!kaggle competitions download -c dogs-vs-cats"
      ],
      "execution_count": null,
      "outputs": [
        {
          "output_type": "stream",
          "name": "stdout",
          "text": [
            "Downloading dogs-vs-cats.zip to /content\n",
            " 97% 790M/812M [00:04<00:00, 215MB/s]\n",
            "100% 812M/812M [00:04<00:00, 171MB/s]\n"
          ]
        }
      ]
    },
    {
      "cell_type": "code",
      "source": [
        "!unzip -qq dogs-vs-cats"
      ],
      "metadata": {
        "id": "e48fCioYlPU6"
      },
      "execution_count": null,
      "outputs": []
    },
    {
      "cell_type": "code",
      "metadata": {
        "id": "y8UWwdXcMOcE"
      },
      "source": [
        "!unzip -qq test1.zip"
      ],
      "execution_count": null,
      "outputs": []
    },
    {
      "cell_type": "code",
      "metadata": {
        "id": "ABcoW4YHHkgU"
      },
      "source": [
        "!unzip -qq train.zip"
      ],
      "execution_count": null,
      "outputs": []
    },
    {
      "cell_type": "code",
      "metadata": {
        "id": "YlOppXz1J48i"
      },
      "source": [
        "#shutil.rmtree(\"./cats_vs_dogs_small\", ignore_errors=True)\n",
        "#shutil.rmtree(\"./test1\", ignore_errors=True)\n",
        "#shutil.rmtree(\"./train\", ignore_errors=True)\n"
      ],
      "execution_count": null,
      "outputs": []
    },
    {
      "cell_type": "markdown",
      "metadata": {
        "id": "y_d0PlVSTP3P"
      },
      "source": [
        "## Q1. Consider the Cats & Dogs example. Start initially with a training sample of 1000, a validation sample of 500, and a test sample of 500 (like in the text). Use any technique to reduce overfitting and improve performance in developing a network that you train from scratch. What performance did you achieve?\n",
        "\n",
        "\n",
        "### Here the training sample is of 1000 images with test and validation samples of 500 images.\n",
        "\n",
        "#### Test Accuracy - 70.6%\n",
        "\n",
        "#### Training Accuraccy - 98.25%\n",
        "\n",
        "#### Validation Accuracy - 74.3%"
      ]
    },
    {
      "cell_type": "markdown",
      "metadata": {
        "id": "cTtWpwnPz7b5"
      },
      "source": [
        "**Copying images to training, validation, and test directories**"
      ]
    },
    {
      "cell_type": "code",
      "metadata": {
        "id": "mkM9Kg1uLJf-"
      },
      "source": [
        "import os, shutil, pathlib\n",
        "\n",
        "original_dir = pathlib.Path(\"train\")\n",
        "new_base_dir = pathlib.Path(\"cats_vs_dogs_small\")\n",
        "\n",
        "def make_subset(subset_name, start_index, end_index):\n",
        "    for category in (\"cat\", \"dog\"):\n",
        "        dir = new_base_dir / subset_name / category\n",
        "        os.makedirs(dir)\n",
        "        fnames = [f\"{category}.{i}.jpg\" for i in range(start_index, end_index)]\n",
        "        for fname in fnames:\n",
        "            shutil.copyfile(src=original_dir / fname,\n",
        "                            dst=dir / fname)\n",
        "\n",
        "\n",
        "# Training has 1000 samples, test has 500 samples and validation has 500 samples.\n",
        "\n",
        "make_subset(\"train\", start_index=0, end_index=1000)\n",
        "make_subset(\"validation\", start_index=1000, end_index=1500)\n",
        "make_subset(\"test\", start_index=1500, end_index=2000)"
      ],
      "execution_count": null,
      "outputs": []
    },
    {
      "cell_type": "markdown",
      "metadata": {
        "id": "A0Kl-Y9HuD5-"
      },
      "source": [
        "##Data Preprocessing\n",
        "#### An integral step in machine learning as the quality of the data and the useful information that can be derived from it directly affects the ability of our model to learn.\n",
        "\n",
        "####1.Read the pictures\n",
        "####2.Convert JPEG content into RGB grid of pixels\n",
        "####3. Convert RGB grid of pixels into floating point tensors\n",
        "####4. Resize them\n",
        "####5. Make them into batches"
      ]
    },
    {
      "cell_type": "markdown",
      "metadata": {
        "id": "z4fboVketrcu"
      },
      "source": [
        "**Using `image_dataset_from_directory` to read images**"
      ]
    },
    {
      "cell_type": "code",
      "metadata": {
        "colab": {
          "base_uri": "https://localhost:8080/"
        },
        "id": "n2KO6Tz_LJgA",
        "outputId": "76cd6498-83e1-46fe-d121-3689d12ee5a3"
      },
      "source": [
        "from tensorflow.keras.utils import image_dataset_from_directory\n",
        "\n",
        "train_dataset = image_dataset_from_directory(\n",
        "    new_base_dir / \"train\",\n",
        "    image_size=(180, 180),\n",
        "    batch_size=32)\n",
        "validation_dataset = image_dataset_from_directory(\n",
        "    new_base_dir / \"validation\",\n",
        "    image_size=(180, 180),\n",
        "    batch_size=32)\n",
        "test_dataset = image_dataset_from_directory(\n",
        "    new_base_dir / \"test\",\n",
        "    image_size=(180, 180),\n",
        "    batch_size=32)"
      ],
      "execution_count": null,
      "outputs": [
        {
          "output_type": "stream",
          "name": "stdout",
          "text": [
            "Found 2000 files belonging to 2 classes.\n",
            "Found 1000 files belonging to 2 classes.\n",
            "Found 1000 files belonging to 2 classes.\n"
          ]
        }
      ]
    },
    {
      "cell_type": "markdown",
      "metadata": {
        "id": "u1ofxMIFp-nL"
      },
      "source": [
        "Create a dataset instance from NumPy array of random numbers of 1000 samples and each sample of vector size 16"
      ]
    },
    {
      "cell_type": "code",
      "metadata": {
        "id": "q-OvV49ALJgB"
      },
      "source": [
        "import numpy as np\n",
        "import tensorflow as tf\n",
        "random_numbers = np.random.normal(size=(1000, 16))\n",
        "dataset = tf.data.Dataset.from_tensor_slices(random_numbers)"
      ],
      "execution_count": null,
      "outputs": []
    },
    {
      "cell_type": "code",
      "metadata": {
        "colab": {
          "base_uri": "https://localhost:8080/"
        },
        "id": "J2VciHhWLJgB",
        "outputId": "d3b79e84-9174-48ad-f9df-2c9d62f41cbc"
      },
      "source": [
        "for i, element in enumerate(dataset):\n",
        "    print(element.shape)\n",
        "    if i >= 2:\n",
        "        break"
      ],
      "execution_count": null,
      "outputs": [
        {
          "output_type": "stream",
          "name": "stdout",
          "text": [
            "(16,)\n",
            "(16,)\n",
            "(16,)\n"
          ]
        }
      ]
    },
    {
      "cell_type": "markdown",
      "metadata": {
        "id": "ltmtIkKxq4sf"
      },
      "source": [
        "Batching the data into batches of size 32"
      ]
    },
    {
      "cell_type": "code",
      "metadata": {
        "colab": {
          "base_uri": "https://localhost:8080/"
        },
        "id": "2HaIetuiLJgB",
        "outputId": "2988ede7-52a8-4d62-c6c2-c57779567b28"
      },
      "source": [
        "batched_dataset = dataset.batch(32)\n",
        "for i, element in enumerate(batched_dataset):\n",
        "    print(element.shape)\n",
        "    if i >= 2:\n",
        "        break"
      ],
      "execution_count": null,
      "outputs": [
        {
          "output_type": "stream",
          "name": "stdout",
          "text": [
            "(32, 16)\n",
            "(32, 16)\n",
            "(32, 16)\n"
          ]
        }
      ]
    },
    {
      "cell_type": "code",
      "metadata": {
        "colab": {
          "base_uri": "https://localhost:8080/"
        },
        "id": "Aqh5SrMXLJgB",
        "outputId": "086cf36f-3861-42cb-a3bb-6b75820a8535"
      },
      "source": [
        "reshaped_dataset = dataset.map(lambda x: tf.reshape(x, (4, 4)))\n",
        "for i, element in enumerate(reshaped_dataset):\n",
        "    print(element.shape)\n",
        "    if i >= 2:\n",
        "        break"
      ],
      "execution_count": null,
      "outputs": [
        {
          "output_type": "stream",
          "name": "stdout",
          "text": [
            "(4, 4)\n",
            "(4, 4)\n",
            "(4, 4)\n"
          ]
        }
      ]
    },
    {
      "cell_type": "markdown",
      "metadata": {
        "id": "7nj0WdosLJgC"
      },
      "source": [
        "**Displaying the shapes of the data and labels yielded by the `Dataset`**"
      ]
    },
    {
      "cell_type": "code",
      "metadata": {
        "colab": {
          "base_uri": "https://localhost:8080/"
        },
        "id": "YLVTY3F6LJgC",
        "outputId": "40b27b83-32b7-41ae-a00e-3c0fd628d503"
      },
      "source": [
        "for data_batch, labels_batch in train_dataset:\n",
        "    print(\"data batch shape:\", data_batch.shape)\n",
        "    print(\"labels batch shape:\", labels_batch.shape)\n",
        "    break"
      ],
      "execution_count": null,
      "outputs": [
        {
          "output_type": "stream",
          "name": "stdout",
          "text": [
            "data batch shape: (32, 180, 180, 3)\n",
            "labels batch shape: (32,)\n"
          ]
        }
      ]
    },
    {
      "cell_type": "markdown",
      "metadata": {
        "id": "P1hLVDnpLJf-"
      },
      "source": [
        "##Building the model"
      ]
    },
    {
      "cell_type": "markdown",
      "metadata": {
        "id": "9XAsrO-rtzd-"
      },
      "source": [
        "**Instantiating a small convnet for dogs vs. cats classification**\n"
      ]
    },
    {
      "cell_type": "code",
      "metadata": {
        "id": "beY7fF_KLJf_"
      },
      "source": [
        "from tensorflow import keras\n",
        "from tensorflow.keras import layers\n",
        "\n",
        "inputs = keras.Input(shape=(180, 180, 3))\n",
        "x = layers.Rescaling(1./255)(inputs)\n",
        "x = layers.Conv2D(filters=32, kernel_size=3, activation=\"relu\")(x)\n",
        "x = layers.MaxPooling2D(pool_size=2)(x)\n",
        "x = layers.Conv2D(filters=64, kernel_size=3, activation=\"relu\")(x)\n",
        "x = layers.MaxPooling2D(pool_size=2)(x)\n",
        "x = layers.Conv2D(filters=128, kernel_size=3, activation=\"relu\")(x)\n",
        "x = layers.MaxPooling2D(pool_size=2)(x)\n",
        "x = layers.Conv2D(filters=256, kernel_size=3, activation=\"relu\")(x)\n",
        "x = layers.MaxPooling2D(pool_size=2)(x)\n",
        "x = layers.Conv2D(filters=256, kernel_size=3, activation=\"relu\")(x)\n",
        "x = layers.Flatten()(x)\n",
        "x = layers.Dropout(0.5)(x)\n",
        "outputs = layers.Dense(1, activation=\"sigmoid\")(x)\n",
        "model = keras.Model(inputs=inputs, outputs=outputs)"
      ],
      "execution_count": null,
      "outputs": []
    },
    {
      "cell_type": "markdown",
      "metadata": {
        "id": "UkzEJ5iuLJgA"
      },
      "source": [
        "**Configuring the model for training**"
      ]
    },
    {
      "cell_type": "code",
      "metadata": {
        "id": "1Ytsm5F8LJgA"
      },
      "source": [
        "model.compile(loss=\"binary_crossentropy\",\n",
        "              optimizer=\"adam\",\n",
        "              metrics=[\"accuracy\"])"
      ],
      "execution_count": null,
      "outputs": []
    },
    {
      "cell_type": "markdown",
      "source": [
        "#### After compiling the model, we train it on the training dataset, validating the results at the end of each epoch with the validation dataset. I'm making use of GPU to reduce the amount of time each epoch takes in execution."
      ],
      "metadata": {
        "id": "MnPcgUig2Xhh"
      }
    },
    {
      "cell_type": "code",
      "metadata": {
        "colab": {
          "base_uri": "https://localhost:8080/"
        },
        "id": "orpQgeVVLJf_",
        "outputId": "b8de75c7-3a3e-4c8f-c8e4-27914744057f"
      },
      "source": [
        "model.summary()"
      ],
      "execution_count": null,
      "outputs": [
        {
          "output_type": "stream",
          "name": "stdout",
          "text": [
            "Model: \"model\"\n",
            "_________________________________________________________________\n",
            " Layer (type)                Output Shape              Param #   \n",
            "=================================================================\n",
            " input_1 (InputLayer)        [(None, 180, 180, 3)]     0         \n",
            "                                                                 \n",
            " rescaling (Rescaling)       (None, 180, 180, 3)       0         \n",
            "                                                                 \n",
            " conv2d (Conv2D)             (None, 178, 178, 32)      896       \n",
            "                                                                 \n",
            " max_pooling2d (MaxPooling2D  (None, 89, 89, 32)       0         \n",
            " )                                                               \n",
            "                                                                 \n",
            " conv2d_1 (Conv2D)           (None, 87, 87, 64)        18496     \n",
            "                                                                 \n",
            " max_pooling2d_1 (MaxPooling  (None, 43, 43, 64)       0         \n",
            " 2D)                                                             \n",
            "                                                                 \n",
            " conv2d_2 (Conv2D)           (None, 41, 41, 128)       73856     \n",
            "                                                                 \n",
            " max_pooling2d_2 (MaxPooling  (None, 20, 20, 128)      0         \n",
            " 2D)                                                             \n",
            "                                                                 \n",
            " conv2d_3 (Conv2D)           (None, 18, 18, 256)       295168    \n",
            "                                                                 \n",
            " max_pooling2d_3 (MaxPooling  (None, 9, 9, 256)        0         \n",
            " 2D)                                                             \n",
            "                                                                 \n",
            " conv2d_4 (Conv2D)           (None, 7, 7, 256)         590080    \n",
            "                                                                 \n",
            " flatten (Flatten)           (None, 12544)             0         \n",
            "                                                                 \n",
            " dropout (Dropout)           (None, 12544)             0         \n",
            "                                                                 \n",
            " dense (Dense)               (None, 1)                 12545     \n",
            "                                                                 \n",
            "=================================================================\n",
            "Total params: 991,041\n",
            "Trainable params: 991,041\n",
            "Non-trainable params: 0\n",
            "_________________________________________________________________\n"
          ]
        }
      ]
    },
    {
      "cell_type": "markdown",
      "metadata": {
        "id": "KDMhNkahLJgC"
      },
      "source": [
        "**Fitting the model using a `Dataset`**"
      ]
    },
    {
      "cell_type": "code",
      "metadata": {
        "colab": {
          "base_uri": "https://localhost:8080/"
        },
        "id": "3_Us5bFxLJgC",
        "outputId": "3832052e-3a0d-4ffb-f5d2-b3b5e93b4877"
      },
      "source": [
        "from keras.callbacks import ModelCheckpoint, EarlyStopping\n",
        "\n",
        "callbacks = [\n",
        "    keras.callbacks.ModelCheckpoint(\n",
        "        filepath=\"convnet_from_scratch.keras\",\n",
        "        save_best_only=True,\n",
        "        monitor=\"val_loss\")\n",
        "]\n",
        "history = model.fit(\n",
        "    train_dataset,\n",
        "    epochs=30,\n",
        "    validation_data=validation_dataset,\n",
        "    callbacks=callbacks)"
      ],
      "execution_count": null,
      "outputs": [
        {
          "output_type": "stream",
          "name": "stdout",
          "text": [
            "Epoch 1/30\n",
            "63/63 [==============================] - 19s 124ms/step - loss: 0.6959 - accuracy: 0.5060 - val_loss: 0.6894 - val_accuracy: 0.5270\n",
            "Epoch 2/30\n",
            "63/63 [==============================] - 8s 128ms/step - loss: 0.6911 - accuracy: 0.5220 - val_loss: 0.6919 - val_accuracy: 0.5050\n",
            "Epoch 3/30\n",
            "63/63 [==============================] - 8s 111ms/step - loss: 0.6907 - accuracy: 0.5160 - val_loss: 0.6834 - val_accuracy: 0.5530\n",
            "Epoch 4/30\n",
            "63/63 [==============================] - 7s 110ms/step - loss: 0.6834 - accuracy: 0.5395 - val_loss: 0.6413 - val_accuracy: 0.6270\n",
            "Epoch 5/30\n",
            "63/63 [==============================] - 7s 110ms/step - loss: 0.6665 - accuracy: 0.5865 - val_loss: 0.6169 - val_accuracy: 0.6470\n",
            "Epoch 6/30\n",
            "63/63 [==============================] - 7s 110ms/step - loss: 0.6300 - accuracy: 0.6615 - val_loss: 0.5932 - val_accuracy: 0.6730\n",
            "Epoch 7/30\n",
            "63/63 [==============================] - 7s 109ms/step - loss: 0.6150 - accuracy: 0.6670 - val_loss: 0.6244 - val_accuracy: 0.6570\n",
            "Epoch 8/30\n",
            "63/63 [==============================] - 7s 110ms/step - loss: 0.5774 - accuracy: 0.7060 - val_loss: 0.5604 - val_accuracy: 0.7100\n",
            "Epoch 9/30\n",
            "63/63 [==============================] - 7s 108ms/step - loss: 0.5302 - accuracy: 0.7355 - val_loss: 0.6270 - val_accuracy: 0.6400\n",
            "Epoch 10/30\n",
            "63/63 [==============================] - 7s 108ms/step - loss: 0.4934 - accuracy: 0.7575 - val_loss: 0.5885 - val_accuracy: 0.7120\n",
            "Epoch 11/30\n",
            "63/63 [==============================] - 7s 108ms/step - loss: 0.4443 - accuracy: 0.7885 - val_loss: 0.5847 - val_accuracy: 0.7150\n",
            "Epoch 12/30\n",
            "63/63 [==============================] - 7s 110ms/step - loss: 0.3929 - accuracy: 0.8285 - val_loss: 0.5517 - val_accuracy: 0.7350\n",
            "Epoch 13/30\n",
            "63/63 [==============================] - 7s 108ms/step - loss: 0.3393 - accuracy: 0.8475 - val_loss: 0.6067 - val_accuracy: 0.7420\n",
            "Epoch 14/30\n",
            "63/63 [==============================] - 7s 110ms/step - loss: 0.3062 - accuracy: 0.8585 - val_loss: 0.6153 - val_accuracy: 0.7410\n",
            "Epoch 15/30\n",
            "63/63 [==============================] - 7s 109ms/step - loss: 0.2247 - accuracy: 0.9055 - val_loss: 0.6566 - val_accuracy: 0.7180\n",
            "Epoch 16/30\n",
            "63/63 [==============================] - 7s 109ms/step - loss: 0.1906 - accuracy: 0.9225 - val_loss: 0.7408 - val_accuracy: 0.7370\n",
            "Epoch 17/30\n",
            "63/63 [==============================] - 7s 109ms/step - loss: 0.1699 - accuracy: 0.9295 - val_loss: 0.8337 - val_accuracy: 0.7380\n",
            "Epoch 18/30\n",
            "63/63 [==============================] - 7s 110ms/step - loss: 0.1079 - accuracy: 0.9595 - val_loss: 0.9159 - val_accuracy: 0.7530\n",
            "Epoch 19/30\n",
            "63/63 [==============================] - 7s 110ms/step - loss: 0.1126 - accuracy: 0.9560 - val_loss: 0.9548 - val_accuracy: 0.7330\n",
            "Epoch 20/30\n",
            "63/63 [==============================] - 7s 109ms/step - loss: 0.0940 - accuracy: 0.9640 - val_loss: 0.9720 - val_accuracy: 0.7580\n",
            "Epoch 21/30\n",
            "63/63 [==============================] - 7s 109ms/step - loss: 0.0768 - accuracy: 0.9755 - val_loss: 1.0202 - val_accuracy: 0.7670\n",
            "Epoch 22/30\n",
            "63/63 [==============================] - 7s 110ms/step - loss: 0.0724 - accuracy: 0.9705 - val_loss: 0.9973 - val_accuracy: 0.7670\n",
            "Epoch 23/30\n",
            "63/63 [==============================] - 7s 109ms/step - loss: 0.0647 - accuracy: 0.9790 - val_loss: 1.0758 - val_accuracy: 0.7350\n",
            "Epoch 24/30\n",
            "63/63 [==============================] - 7s 110ms/step - loss: 0.0596 - accuracy: 0.9800 - val_loss: 1.0931 - val_accuracy: 0.7580\n",
            "Epoch 25/30\n",
            "63/63 [==============================] - 7s 109ms/step - loss: 0.0451 - accuracy: 0.9855 - val_loss: 1.1887 - val_accuracy: 0.7450\n",
            "Epoch 26/30\n",
            "63/63 [==============================] - 7s 109ms/step - loss: 0.0547 - accuracy: 0.9790 - val_loss: 1.1971 - val_accuracy: 0.7560\n",
            "Epoch 27/30\n",
            "63/63 [==============================] - 7s 109ms/step - loss: 0.0541 - accuracy: 0.9800 - val_loss: 1.3102 - val_accuracy: 0.7540\n",
            "Epoch 28/30\n",
            "63/63 [==============================] - 7s 109ms/step - loss: 0.0312 - accuracy: 0.9895 - val_loss: 1.2796 - val_accuracy: 0.7580\n",
            "Epoch 29/30\n",
            "63/63 [==============================] - 7s 109ms/step - loss: 0.0561 - accuracy: 0.9825 - val_loss: 1.4148 - val_accuracy: 0.7400\n",
            "Epoch 30/30\n",
            "63/63 [==============================] - 7s 109ms/step - loss: 0.0450 - accuracy: 0.9875 - val_loss: 1.3277 - val_accuracy: 0.7430\n"
          ]
        }
      ]
    },
    {
      "cell_type": "markdown",
      "metadata": {
        "id": "wFh51DoALJgC"
      },
      "source": [
        "**Displaying curves of loss and accuracy during training**"
      ]
    },
    {
      "cell_type": "code",
      "metadata": {
        "colab": {
          "base_uri": "https://localhost:8080/",
          "height": 1000
        },
        "id": "k4Iv3jPhLJgC",
        "outputId": "5e3793ab-01c1-4214-a316-68f41f14a985"
      },
      "source": [
        "\n",
        "import matplotlib.pyplot as plt\n",
        "\n",
        "plt.figure(figsize=(10, 10))\n",
        "accuracy = history.history[\"accuracy\"]\n",
        "val_accuracy = history.history[\"val_accuracy\"]\n",
        "loss = history.history[\"loss\"]\n",
        "val_loss = history.history[\"val_loss\"]\n",
        "epochs = range(1, len(accuracy) + 1)\n",
        "plt.plot(epochs, accuracy, \"bo\", label=\"Training accuracy\")\n",
        "plt.plot(epochs, val_accuracy, \"b\", label=\"Validation accuracy\")\n",
        "plt.title(\"Training and validation accuracy\")\n",
        "plt.legend()\n",
        "plt.figure()\n",
        "plt.figure(figsize=(10, 10))\n",
        "plt.plot(epochs, loss, \"bo\", label=\"Training loss\")\n",
        "plt.plot(epochs, val_loss, \"b\", label=\"Validation loss\")\n",
        "plt.title(\"Training and validation loss\")\n",
        "plt.legend()\n",
        "plt.show()"
      ],
      "execution_count": null,
      "outputs": [
        {
          "output_type": "display_data",
          "data": {
            "text/plain": [
              "<Figure size 720x720 with 1 Axes>"
            ],
            "image/png": "[encoded data removed]"
          },
          "metadata": {
            "needs_background": "light"
          }
        },
        {
          "output_type": "display_data",
          "data": {
            "text/plain": [
              "<Figure size 432x288 with 0 Axes>"
            ]
          },
          "metadata": {}
        },
        {
          "output_type": "display_data",
          "data": {
            "text/plain": [
              "<Figure size 720x720 with 1 Axes>"
            ],
            "image/png": "[encoded data removed]"
          },
          "metadata": {
            "needs_background": "light"
          }
        }
      ]
    },
    {
      "cell_type": "markdown",
      "source": [
        "We can conclude the following from the above plots:\n",
        "\n",
        "*  The Training accuracy did not reach 100% because of the large dropout rate.\n",
        "*   The network starts overfitting at epoch 8, even with such a large dropout rate.\n",
        "\n",
        "*   The validation accuracy plateaus around 74%, which is not too bad.\n",
        "\n",
        "We cannot increase dropout further, so we would need more data to do a better job. \n",
        "\n",
        "\n",
        "\n",
        "\n",
        "\n",
        "\n"
      ],
      "metadata": {
        "id": "q9wu2ubH3EfI"
      }
    },
    {
      "cell_type": "markdown",
      "metadata": {
        "id": "IxhZlNRjLJgD"
      },
      "source": [
        "**Evaluating the model on the test set**"
      ]
    },
    {
      "cell_type": "code",
      "metadata": {
        "colab": {
          "base_uri": "https://localhost:8080/"
        },
        "id": "rnkCdcr2LJgD",
        "outputId": "3e376e5b-b2b9-4444-e8aa-9c573592f8c9"
      },
      "source": [
        "test_model = keras.models.load_model(\"convnet_from_scratch.keras\")\n",
        "test_loss, test_acc = test_model.evaluate(test_dataset)\n",
        "print(f\"Test accuracy: {test_acc:.3f}\")"
      ],
      "execution_count": null,
      "outputs": [
        {
          "output_type": "stream",
          "name": "stdout",
          "text": [
            "32/32 [==============================] - 2s 44ms/step - loss: 0.5892 - accuracy: 0.7060\n",
            "Test accuracy: 0.706\n"
          ]
        }
      ]
    },
    {
      "cell_type": "markdown",
      "source": [
        "From the above result we can conclude that the test accuracy is about 70.6% when the Training accuracy is about 98.75%."
      ],
      "metadata": {
        "id": "VcgAAycYULjn"
      }
    },
    {
      "cell_type": "markdown",
      "metadata": {
        "id": "JYJ0Y_Jtcy7O"
      },
      "source": [
        "## Q2.  Increase your training sample size. You may pick any amount. Keep the validation and test samples the same as above. Optimize your network (again training from scratch). What performance did you achieve?"
      ]
    },
    {
      "cell_type": "markdown",
      "metadata": {
        "id": "a-M774A19ZOx"
      },
      "source": [
        "#### Test Accuracy - 80.9%\n",
        "\n",
        "#### Training Accuraccy - 84.9%\n",
        "\n",
        "#### Validation Accuracy - 82.2%\n"
      ]
    },
    {
      "cell_type": "markdown",
      "metadata": {
        "id": "go8Th_HDLJgD"
      },
      "source": [
        "**Define a data augmentation stage to add to an image model**"
      ]
    },
    {
      "cell_type": "code",
      "metadata": {
        "id": "Ecz_riV30EGy"
      },
      "source": [
        "import os, shutil, pathlib\n",
        "\n",
        "shutil.rmtree(\"./cats_vs_dogs_small_Q2\", ignore_errors=True)\n",
        "\n",
        "original_dir = pathlib.Path(\"train\")\n",
        "new_base_dir = pathlib.Path(\"cats_vs_dogs_small_Q2\")\n",
        "\n",
        "def make_subset(subset_name, start_index, end_index):\n",
        "    for category in (\"cat\", \"dog\"):\n",
        "        dir = new_base_dir / subset_name / category\n",
        "        os.makedirs(dir)\n",
        "        fnames = [f\"{category}.{i}.jpg\" for i in range(start_index, end_index)]\n",
        "        for fname in fnames:\n",
        "            shutil.copyfile(src=original_dir / fname,\n",
        "                            dst=dir / fname)\n",
        "#Creating training, Test and validation sets.\n",
        "#Training has 1500 samples, test has 500 samples and validation has 500 samples.\n",
        "make_subset(\"train\", start_index=0, end_index=1500)\n",
        "make_subset(\"validation\", start_index=1500, end_index=2000)\n",
        "make_subset(\"test\", start_index=2000, end_index=2500)"
      ],
      "execution_count": null,
      "outputs": []
    },
    {
      "cell_type": "code",
      "metadata": {
        "id": "RopcC5mFLJgE"
      },
      "source": [
        "data_augmentation = keras.Sequential(\n",
        "    [\n",
        "        layers.RandomFlip(\"horizontal\"),\n",
        "        layers.RandomRotation(0.1),\n",
        "        layers.RandomZoom(0.2),\n",
        "    ]\n",
        ")"
      ],
      "execution_count": null,
      "outputs": []
    },
    {
      "cell_type": "markdown",
      "metadata": {
        "id": "cRpQ-P8eLJgE"
      },
      "source": [
        "**Displaying some randomly augmented training images**"
      ]
    },
    {
      "cell_type": "code",
      "metadata": {
        "colab": {
          "base_uri": "https://localhost:8080/",
          "height": 575
        },
        "id": "w4fdl64zLJgE",
        "outputId": "d0337a25-e298-4156-a496-ccd26bba5996"
      },
      "source": [
        "plt.figure(figsize=(10, 10))\n",
        "for images, _ in train_dataset.take(1):\n",
        "    for i in range(9):\n",
        "        augmented_images = data_augmentation(images)\n",
        "        ax = plt.subplot(3, 3, i + 1)\n",
        "        plt.imshow(augmented_images[0].numpy().astype(\"uint8\"))\n",
        "        plt.axis(\"off\")"
      ],
      "execution_count": null,
      "outputs": [
        {
          "output_type": "display_data",
          "data": {
            "text/plain": [
              "<Figure size 720x720 with 9 Axes>"
            ],
            "image/png": "[encoded data removed]"
          },
          "metadata": {
            "needs_background": "light"
          }
        }
      ]
    },
    {
      "cell_type": "markdown",
      "metadata": {
        "id": "mtaPOa7ILJgE"
      },
      "source": [
        "**Defining a new convnet that includes image augmentation and dropout**"
      ]
    },
    {
      "cell_type": "code",
      "metadata": {
        "id": "zziUmvoPLJgE"
      },
      "source": [
        "inputs = keras.Input(shape=(180, 180, 3))\n",
        "x = data_augmentation(inputs)\n",
        "x = layers.Rescaling(1./255)(x)\n",
        "x = layers.Conv2D(filters=32, kernel_size=3, activation=\"relu\")(x)\n",
        "x = layers.MaxPooling2D(pool_size=2)(x)\n",
        "x = layers.Conv2D(filters=64, kernel_size=3, activation=\"relu\")(x)\n",
        "x = layers.MaxPooling2D(pool_size=2)(x)\n",
        "x = layers.Conv2D(filters=128, kernel_size=3, activation=\"relu\")(x)\n",
        "x = layers.MaxPooling2D(pool_size=2)(x)\n",
        "x = layers.Conv2D(filters=256, kernel_size=3, activation=\"relu\")(x)\n",
        "x = layers.MaxPooling2D(pool_size=2)(x)\n",
        "x = layers.Conv2D(filters=256, kernel_size=3, activation=\"relu\")(x)\n",
        "x = layers.Flatten()(x)\n",
        "x = layers.Dropout(0.5)(x)\n",
        "outputs = layers.Dense(1, activation=\"sigmoid\")(x)\n",
        "model = keras.Model(inputs=inputs, outputs=outputs)\n",
        "\n",
        "model.compile(loss=\"binary_crossentropy\",\n",
        "              optimizer=\"adam\",\n",
        "              metrics=[\"accuracy\"])"
      ],
      "execution_count": null,
      "outputs": []
    },
    {
      "cell_type": "markdown",
      "metadata": {
        "id": "8cneVnr6LJgF"
      },
      "source": [
        "**Training the regularized convnet**"
      ]
    },
    {
      "cell_type": "code",
      "metadata": {
        "colab": {
          "base_uri": "https://localhost:8080/"
        },
        "id": "cc6rLTqeLJgF",
        "outputId": "299be628-ac84-42a9-f084-3018b9d3d528"
      },
      "source": [
        "callbacks = [\n",
        "    keras.callbacks.ModelCheckpoint(\n",
        "        filepath=\"convnet_from_scratch_with_augmentation.keras\",\n",
        "        save_best_only=True,\n",
        "        monitor=\"val_loss\")\n",
        "]\n",
        "history = model.fit(\n",
        "    train_dataset,\n",
        "    epochs=50,\n",
        "    validation_data=validation_dataset,\n",
        "    callbacks=callbacks)"
      ],
      "execution_count": null,
      "outputs": [
        {
          "output_type": "stream",
          "name": "stdout",
          "text": [
            "Epoch 1/50\n",
            "63/63 [==============================] - 9s 117ms/step - loss: 0.6911 - accuracy: 0.5310 - val_loss: 0.6844 - val_accuracy: 0.5040\n",
            "Epoch 2/50\n",
            "63/63 [==============================] - 8s 116ms/step - loss: 0.6839 - accuracy: 0.5630 - val_loss: 0.6729 - val_accuracy: 0.5430\n",
            "Epoch 3/50\n",
            "63/63 [==============================] - 8s 116ms/step - loss: 0.6690 - accuracy: 0.5905 - val_loss: 0.6308 - val_accuracy: 0.6440\n",
            "Epoch 4/50\n",
            "63/63 [==============================] - 8s 116ms/step - loss: 0.6471 - accuracy: 0.6245 - val_loss: 0.6191 - val_accuracy: 0.6460\n",
            "Epoch 5/50\n",
            "63/63 [==============================] - 8s 115ms/step - loss: 0.6395 - accuracy: 0.6360 - val_loss: 0.6486 - val_accuracy: 0.6370\n",
            "Epoch 6/50\n",
            "63/63 [==============================] - 8s 116ms/step - loss: 0.6284 - accuracy: 0.6535 - val_loss: 0.6139 - val_accuracy: 0.6640\n",
            "Epoch 7/50\n",
            "63/63 [==============================] - 8s 116ms/step - loss: 0.6138 - accuracy: 0.6650 - val_loss: 0.5979 - val_accuracy: 0.6680\n",
            "Epoch 8/50\n",
            "63/63 [==============================] - 8s 117ms/step - loss: 0.6231 - accuracy: 0.6505 - val_loss: 0.6286 - val_accuracy: 0.6410\n",
            "Epoch 9/50\n",
            "63/63 [==============================] - 8s 117ms/step - loss: 0.6217 - accuracy: 0.6585 - val_loss: 0.5919 - val_accuracy: 0.6780\n",
            "Epoch 10/50\n",
            "63/63 [==============================] - 8s 116ms/step - loss: 0.6010 - accuracy: 0.6885 - val_loss: 0.5792 - val_accuracy: 0.7010\n",
            "Epoch 11/50\n",
            "63/63 [==============================] - 8s 116ms/step - loss: 0.6032 - accuracy: 0.6795 - val_loss: 0.5968 - val_accuracy: 0.6750\n",
            "Epoch 12/50\n",
            "63/63 [==============================] - 8s 115ms/step - loss: 0.6245 - accuracy: 0.6525 - val_loss: 0.6083 - val_accuracy: 0.6670\n",
            "Epoch 13/50\n",
            "63/63 [==============================] - 7s 114ms/step - loss: 0.5917 - accuracy: 0.6875 - val_loss: 0.5812 - val_accuracy: 0.6910\n",
            "Epoch 14/50\n",
            "63/63 [==============================] - 7s 114ms/step - loss: 0.5691 - accuracy: 0.7135 - val_loss: 0.6346 - val_accuracy: 0.6600\n",
            "Epoch 15/50\n",
            "63/63 [==============================] - 8s 117ms/step - loss: 0.5580 - accuracy: 0.7055 - val_loss: 0.5402 - val_accuracy: 0.7360\n",
            "Epoch 16/50\n",
            "63/63 [==============================] - 8s 115ms/step - loss: 0.5443 - accuracy: 0.7280 - val_loss: 0.5540 - val_accuracy: 0.7040\n",
            "Epoch 17/50\n",
            "63/63 [==============================] - 8s 116ms/step - loss: 0.5431 - accuracy: 0.7230 - val_loss: 0.5323 - val_accuracy: 0.7350\n",
            "Epoch 18/50\n",
            "63/63 [==============================] - 8s 116ms/step - loss: 0.5644 - accuracy: 0.7170 - val_loss: 0.5813 - val_accuracy: 0.7050\n",
            "Epoch 19/50\n",
            "63/63 [==============================] - 8s 115ms/step - loss: 0.5385 - accuracy: 0.7315 - val_loss: 0.5188 - val_accuracy: 0.7400\n",
            "Epoch 20/50\n",
            "63/63 [==============================] - 8s 115ms/step - loss: 0.5311 - accuracy: 0.7410 - val_loss: 0.4980 - val_accuracy: 0.7610\n",
            "Epoch 21/50\n",
            "63/63 [==============================] - 8s 115ms/step - loss: 0.5191 - accuracy: 0.7395 - val_loss: 0.5101 - val_accuracy: 0.7580\n",
            "Epoch 22/50\n",
            "63/63 [==============================] - 7s 114ms/step - loss: 0.5097 - accuracy: 0.7640 - val_loss: 0.5042 - val_accuracy: 0.7520\n",
            "Epoch 23/50\n",
            "63/63 [==============================] - 8s 116ms/step - loss: 0.5043 - accuracy: 0.7510 - val_loss: 0.4962 - val_accuracy: 0.7470\n",
            "Epoch 24/50\n",
            "63/63 [==============================] - 8s 116ms/step - loss: 0.5037 - accuracy: 0.7550 - val_loss: 0.5099 - val_accuracy: 0.7470\n",
            "Epoch 25/50\n",
            "63/63 [==============================] - 7s 114ms/step - loss: 0.4690 - accuracy: 0.7650 - val_loss: 0.4984 - val_accuracy: 0.7550\n",
            "Epoch 26/50\n",
            "63/63 [==============================] - 7s 114ms/step - loss: 0.4811 - accuracy: 0.7710 - val_loss: 0.5229 - val_accuracy: 0.7360\n",
            "Epoch 27/50\n",
            "63/63 [==============================] - 8s 115ms/step - loss: 0.4605 - accuracy: 0.7850 - val_loss: 0.4855 - val_accuracy: 0.7690\n",
            "Epoch 28/50\n",
            "63/63 [==============================] - 8s 116ms/step - loss: 0.4416 - accuracy: 0.7970 - val_loss: 0.4734 - val_accuracy: 0.7790\n",
            "Epoch 29/50\n",
            "63/63 [==============================] - 7s 114ms/step - loss: 0.4539 - accuracy: 0.7855 - val_loss: 0.4852 - val_accuracy: 0.7680\n",
            "Epoch 30/50\n",
            "63/63 [==============================] - 8s 114ms/step - loss: 0.4385 - accuracy: 0.7995 - val_loss: 0.5114 - val_accuracy: 0.7520\n",
            "Epoch 31/50\n",
            "63/63 [==============================] - 7s 114ms/step - loss: 0.4373 - accuracy: 0.7915 - val_loss: 0.4754 - val_accuracy: 0.7750\n",
            "Epoch 32/50\n",
            "63/63 [==============================] - 7s 114ms/step - loss: 0.4280 - accuracy: 0.7950 - val_loss: 0.5071 - val_accuracy: 0.7720\n",
            "Epoch 33/50\n",
            "63/63 [==============================] - 8s 115ms/step - loss: 0.4303 - accuracy: 0.7965 - val_loss: 0.4446 - val_accuracy: 0.7940\n",
            "Epoch 34/50\n",
            "63/63 [==============================] - 8s 115ms/step - loss: 0.4326 - accuracy: 0.7985 - val_loss: 0.4430 - val_accuracy: 0.7890\n",
            "Epoch 35/50\n",
            "63/63 [==============================] - 8s 115ms/step - loss: 0.4111 - accuracy: 0.8140 - val_loss: 0.4418 - val_accuracy: 0.7930\n",
            "Epoch 36/50\n",
            "63/63 [==============================] - 8s 115ms/step - loss: 0.4079 - accuracy: 0.8090 - val_loss: 0.4416 - val_accuracy: 0.7910\n",
            "Epoch 37/50\n",
            "63/63 [==============================] - 7s 114ms/step - loss: 0.3875 - accuracy: 0.8240 - val_loss: 0.4535 - val_accuracy: 0.7920\n",
            "Epoch 38/50\n",
            "63/63 [==============================] - 8s 115ms/step - loss: 0.4037 - accuracy: 0.8205 - val_loss: 0.4642 - val_accuracy: 0.7950\n",
            "Epoch 39/50\n",
            "63/63 [==============================] - 8s 115ms/step - loss: 0.3854 - accuracy: 0.8285 - val_loss: 0.4617 - val_accuracy: 0.7900\n",
            "Epoch 40/50\n",
            "63/63 [==============================] - 7s 114ms/step - loss: 0.3814 - accuracy: 0.8385 - val_loss: 0.4483 - val_accuracy: 0.7990\n",
            "Epoch 41/50\n",
            "63/63 [==============================] - 8s 114ms/step - loss: 0.3988 - accuracy: 0.8295 - val_loss: 0.4274 - val_accuracy: 0.8160\n",
            "Epoch 42/50\n",
            "63/63 [==============================] - 7s 114ms/step - loss: 0.3801 - accuracy: 0.8305 - val_loss: 0.4283 - val_accuracy: 0.8030\n",
            "Epoch 43/50\n",
            "63/63 [==============================] - 8s 117ms/step - loss: 0.3573 - accuracy: 0.8485 - val_loss: 0.4235 - val_accuracy: 0.8240\n",
            "Epoch 44/50\n",
            "63/63 [==============================] - 8s 115ms/step - loss: 0.3432 - accuracy: 0.8540 - val_loss: 0.4175 - val_accuracy: 0.8140\n",
            "Epoch 45/50\n",
            "63/63 [==============================] - 8s 115ms/step - loss: 0.3435 - accuracy: 0.8495 - val_loss: 0.4469 - val_accuracy: 0.8060\n",
            "Epoch 46/50\n",
            "63/63 [==============================] - 8s 115ms/step - loss: 0.3410 - accuracy: 0.8485 - val_loss: 0.4280 - val_accuracy: 0.8110\n",
            "Epoch 47/50\n",
            "63/63 [==============================] - 7s 113ms/step - loss: 0.3209 - accuracy: 0.8525 - val_loss: 0.4291 - val_accuracy: 0.8100\n",
            "Epoch 48/50\n",
            "63/63 [==============================] - 8s 116ms/step - loss: 0.3184 - accuracy: 0.8610 - val_loss: 0.4234 - val_accuracy: 0.8060\n",
            "Epoch 49/50\n",
            "63/63 [==============================] - 7s 114ms/step - loss: 0.3364 - accuracy: 0.8530 - val_loss: 0.4448 - val_accuracy: 0.8020\n",
            "Epoch 50/50\n",
            "63/63 [==============================] - 8s 116ms/step - loss: 0.3222 - accuracy: 0.8490 - val_loss: 0.4165 - val_accuracy: 0.8220\n"
          ]
        }
      ]
    },
    {
      "cell_type": "markdown",
      "metadata": {
        "id": "K7R_41A7LJgF"
      },
      "source": [
        "**Evaluating the model on the test set**"
      ]
    },
    {
      "cell_type": "code",
      "metadata": {
        "colab": {
          "base_uri": "https://localhost:8080/"
        },
        "id": "LWMgTFPOLJgF",
        "outputId": "9acec776-fd85-45a3-aa33-1fd6904c24e7"
      },
      "source": [
        "test_model = keras.models.load_model(\n",
        "    \"convnet_from_scratch_with_augmentation.keras\")\n",
        "test_loss, test_acc = test_model.evaluate(test_dataset)\n",
        "print(f\"Test accuracy: {test_acc:.3f}\")"
      ],
      "execution_count": null,
      "outputs": [
        {
          "output_type": "stream",
          "name": "stdout",
          "text": [
            "32/32 [==============================] - 2s 45ms/step - loss: 0.4782 - accuracy: 0.8090\n",
            "Test accuracy: 0.809\n"
          ]
        }
      ]
    },
    {
      "cell_type": "markdown",
      "metadata": {
        "id": "ZBTatsuzYBsL"
      },
      "source": [
        "## Q3. Now change your training sample so that you achieve better performance than those from Steps 1 and 2. This sample size may be larger, or smaller than those in the previous steps. The objective is to find the ideal training sample size to get best prediction results.\n",
        "\n",
        "\n"
      ]
    },
    {
      "cell_type": "markdown",
      "metadata": {
        "id": "1JTDXQOn8ndK"
      },
      "source": [
        "#### Test Accuracy - 75.9%\n",
        "\n",
        "#### Training Accuraccy - 81.05%\n",
        "\n",
        "#### Validation Accuracy - 79.50%\n",
        "\n",
        "### In this step 3, I used 2000 training samples with validation and test sets with 500 samples. I noticed that the test accuracy is better when the training sample is 1500 images than 1000 and 2000 training samples. \n",
        "### Training accuracy is better when there are 1000 training samples."
      ]
    },
    {
      "cell_type": "markdown",
      "metadata": {
        "id": "RCwHLictwLGl"
      },
      "source": [
        "### Increasing the training sample to 2000, keeping the Validation and test sets the same as before which is 500 samples."
      ]
    },
    {
      "cell_type": "code",
      "metadata": {
        "id": "WNwoFRIWwzCa"
      },
      "source": [
        "original_dir = pathlib.Path(\"train\")\n",
        "new_base_dir = pathlib.Path(\"cats_vs_dogs_small_Q3\")\n",
        "\n",
        "def make_subset(subset_name, start_index, end_index):\n",
        "    for category in (\"cat\", \"dog\"):\n",
        "        dir = new_base_dir / subset_name / category\n",
        "        os.makedirs(dir)\n",
        "        fnames = [f\"{category}.{i}.jpg\" for i in range(start_index, end_index)]\n",
        "        for fname in fnames:\n",
        "            shutil.copyfile(src=original_dir / fname,\n",
        "                            dst=dir / fname)\n",
        "#Creating training, Test and validation sets.\n",
        "#Training has 2000 samples, test has 500 samples and validation has 500 samples.\n",
        "make_subset(\"train\", start_index=0, end_index=2000)\n",
        "make_subset(\"validation\", start_index=2000, end_index=2500)\n",
        "make_subset(\"test\", start_index=2500, end_index=3000)"
      ],
      "execution_count": null,
      "outputs": []
    },
    {
      "cell_type": "markdown",
      "metadata": {
        "id": "q4Dy_A0exWqN"
      },
      "source": [
        "**Defining a new convnet with increased training samples,image augmentation and dropout**"
      ]
    },
    {
      "cell_type": "code",
      "metadata": {
        "id": "2HIQ8cHQxWOF"
      },
      "source": [
        "inputs = keras.Input(shape=(180, 180, 3))\n",
        "x = data_augmentation(inputs)\n",
        "x = layers.Rescaling(1./255)(x)\n",
        "x = layers.Conv2D(filters=32, kernel_size=3, activation=\"relu\")(x)\n",
        "x = layers.MaxPooling2D(pool_size=2)(x)\n",
        "x = layers.Conv2D(filters=64, kernel_size=3, activation=\"relu\")(x)\n",
        "x = layers.MaxPooling2D(pool_size=2)(x)\n",
        "x = layers.Conv2D(filters=128, kernel_size=3, activation=\"relu\")(x)\n",
        "x = layers.MaxPooling2D(pool_size=2)(x)\n",
        "x = layers.Conv2D(filters=256, kernel_size=3, activation=\"relu\")(x)\n",
        "x = layers.MaxPooling2D(pool_size=2)(x)\n",
        "x = layers.Conv2D(filters=256, kernel_size=3, activation=\"relu\")(x)\n",
        "x = layers.Flatten()(x)\n",
        "x = layers.Dropout(0.5)(x)\n",
        "outputs = layers.Dense(1, activation=\"sigmoid\")(x)\n",
        "model = keras.Model(inputs=inputs, outputs=outputs)\n",
        "\n",
        "model.compile(loss=\"binary_crossentropy\",\n",
        "              optimizer=\"adam\",\n",
        "              metrics=[\"accuracy\"])"
      ],
      "execution_count": null,
      "outputs": []
    },
    {
      "cell_type": "code",
      "metadata": {
        "colab": {
          "base_uri": "https://localhost:8080/"
        },
        "id": "TC3vdZWhQLu3",
        "outputId": "6ec851db-6830-4ea3-9195-e2d100756356"
      },
      "source": [
        "callbacks = [\n",
        "    keras.callbacks.ModelCheckpoint(\n",
        "        filepath=\"convnet_from_scratch_with_augmentation1.keras\",\n",
        "        save_best_only=True,\n",
        "        monitor=\"val_loss\")\n",
        "]\n",
        "history = model.fit(\n",
        "    train_dataset,\n",
        "    epochs=50,\n",
        "    validation_data=validation_dataset,\n",
        "    callbacks=callbacks)"
      ],
      "execution_count": null,
      "outputs": [
        {
          "output_type": "stream",
          "name": "stdout",
          "text": [
            "Epoch 1/50\n",
            "63/63 [==============================] - 9s 117ms/step - loss: 0.6951 - accuracy: 0.4980 - val_loss: 0.6926 - val_accuracy: 0.5740\n",
            "Epoch 2/50\n",
            "63/63 [==============================] - 7s 114ms/step - loss: 0.6914 - accuracy: 0.5270 - val_loss: 0.6929 - val_accuracy: 0.5550\n",
            "Epoch 3/50\n",
            "63/63 [==============================] - 7s 114ms/step - loss: 0.6944 - accuracy: 0.5000 - val_loss: 0.6932 - val_accuracy: 0.5000\n",
            "Epoch 4/50\n",
            "63/63 [==============================] - 7s 113ms/step - loss: 0.6935 - accuracy: 0.4885 - val_loss: 0.6927 - val_accuracy: 0.5000\n",
            "Epoch 5/50\n",
            "63/63 [==============================] - 7s 114ms/step - loss: 0.6934 - accuracy: 0.4985 - val_loss: 0.6968 - val_accuracy: 0.5000\n",
            "Epoch 6/50\n",
            "63/63 [==============================] - 8s 115ms/step - loss: 0.6933 - accuracy: 0.5020 - val_loss: 0.6900 - val_accuracy: 0.5140\n",
            "Epoch 7/50\n",
            "63/63 [==============================] - 7s 113ms/step - loss: 0.6884 - accuracy: 0.5430 - val_loss: 0.6987 - val_accuracy: 0.5030\n",
            "Epoch 8/50\n",
            "63/63 [==============================] - 8s 116ms/step - loss: 0.6906 - accuracy: 0.5220 - val_loss: 0.7155 - val_accuracy: 0.5010\n",
            "Epoch 9/50\n",
            "63/63 [==============================] - 8s 117ms/step - loss: 0.6903 - accuracy: 0.5215 - val_loss: 0.6870 - val_accuracy: 0.5390\n",
            "Epoch 10/50\n",
            "63/63 [==============================] - 8s 117ms/step - loss: 0.6864 - accuracy: 0.5395 - val_loss: 0.6847 - val_accuracy: 0.5440\n",
            "Epoch 11/50\n",
            "63/63 [==============================] - 8s 117ms/step - loss: 0.6928 - accuracy: 0.5140 - val_loss: 0.6858 - val_accuracy: 0.5440\n",
            "Epoch 12/50\n",
            "63/63 [==============================] - 8s 115ms/step - loss: 0.6884 - accuracy: 0.5575 - val_loss: 0.6895 - val_accuracy: 0.5400\n",
            "Epoch 13/50\n",
            "63/63 [==============================] - 8s 117ms/step - loss: 0.6866 - accuracy: 0.5275 - val_loss: 0.6803 - val_accuracy: 0.5770\n",
            "Epoch 14/50\n",
            "63/63 [==============================] - 8s 117ms/step - loss: 0.6873 - accuracy: 0.5515 - val_loss: 0.6844 - val_accuracy: 0.5630\n",
            "Epoch 15/50\n",
            "63/63 [==============================] - 8s 119ms/step - loss: 0.6789 - accuracy: 0.5750 - val_loss: 0.6654 - val_accuracy: 0.5870\n",
            "Epoch 16/50\n",
            "63/63 [==============================] - 8s 115ms/step - loss: 0.6916 - accuracy: 0.5510 - val_loss: 0.6886 - val_accuracy: 0.5230\n",
            "Epoch 17/50\n",
            "63/63 [==============================] - 8s 115ms/step - loss: 0.6827 - accuracy: 0.5685 - val_loss: 0.6881 - val_accuracy: 0.5630\n",
            "Epoch 18/50\n",
            "63/63 [==============================] - 8s 115ms/step - loss: 0.6726 - accuracy: 0.5780 - val_loss: 0.6748 - val_accuracy: 0.5490\n",
            "Epoch 19/50\n",
            "63/63 [==============================] - 8s 116ms/step - loss: 0.6690 - accuracy: 0.5945 - val_loss: 0.6427 - val_accuracy: 0.6240\n",
            "Epoch 20/50\n",
            "63/63 [==============================] - 8s 116ms/step - loss: 0.6418 - accuracy: 0.6230 - val_loss: 0.6407 - val_accuracy: 0.6230\n",
            "Epoch 21/50\n",
            "63/63 [==============================] - 7s 114ms/step - loss: 0.6376 - accuracy: 0.6595 - val_loss: 0.6789 - val_accuracy: 0.5970\n",
            "Epoch 22/50\n",
            "63/63 [==============================] - 8s 116ms/step - loss: 0.6268 - accuracy: 0.6590 - val_loss: 0.6157 - val_accuracy: 0.6570\n",
            "Epoch 23/50\n",
            "63/63 [==============================] - 8s 115ms/step - loss: 0.6086 - accuracy: 0.6845 - val_loss: 0.6412 - val_accuracy: 0.6260\n",
            "Epoch 24/50\n",
            "63/63 [==============================] - 7s 114ms/step - loss: 0.6274 - accuracy: 0.6585 - val_loss: 0.6145 - val_accuracy: 0.6450\n",
            "Epoch 25/50\n",
            "63/63 [==============================] - 8s 114ms/step - loss: 0.6198 - accuracy: 0.6625 - val_loss: 0.6257 - val_accuracy: 0.6450\n",
            "Epoch 26/50\n",
            "63/63 [==============================] - 7s 114ms/step - loss: 0.5981 - accuracy: 0.6855 - val_loss: 0.6060 - val_accuracy: 0.6700\n",
            "Epoch 27/50\n",
            "63/63 [==============================] - 7s 114ms/step - loss: 0.5950 - accuracy: 0.6900 - val_loss: 0.5980 - val_accuracy: 0.6750\n",
            "Epoch 28/50\n",
            "63/63 [==============================] - 7s 113ms/step - loss: 0.5944 - accuracy: 0.6920 - val_loss: 0.6199 - val_accuracy: 0.6540\n",
            "Epoch 29/50\n",
            "63/63 [==============================] - 8s 115ms/step - loss: 0.5862 - accuracy: 0.6880 - val_loss: 0.5881 - val_accuracy: 0.6850\n",
            "Epoch 30/50\n",
            "63/63 [==============================] - 8s 116ms/step - loss: 0.5649 - accuracy: 0.7080 - val_loss: 0.5807 - val_accuracy: 0.6860\n",
            "Epoch 31/50\n",
            "63/63 [==============================] - 8s 118ms/step - loss: 0.5565 - accuracy: 0.7145 - val_loss: 0.5759 - val_accuracy: 0.6840\n",
            "Epoch 32/50\n",
            "63/63 [==============================] - 7s 114ms/step - loss: 0.5616 - accuracy: 0.7135 - val_loss: 0.5909 - val_accuracy: 0.6810\n",
            "Epoch 33/50\n",
            "63/63 [==============================] - 7s 114ms/step - loss: 0.5485 - accuracy: 0.7195 - val_loss: 0.5601 - val_accuracy: 0.7110\n",
            "Epoch 34/50\n",
            "63/63 [==============================] - 7s 114ms/step - loss: 0.5425 - accuracy: 0.7230 - val_loss: 0.5751 - val_accuracy: 0.6980\n",
            "Epoch 35/50\n",
            "63/63 [==============================] - 8s 116ms/step - loss: 0.5343 - accuracy: 0.7290 - val_loss: 0.5461 - val_accuracy: 0.7290\n",
            "Epoch 36/50\n",
            "63/63 [==============================] - 8s 116ms/step - loss: 0.5232 - accuracy: 0.7365 - val_loss: 0.5334 - val_accuracy: 0.7290\n",
            "Epoch 37/50\n",
            "63/63 [==============================] - 8s 116ms/step - loss: 0.5235 - accuracy: 0.7495 - val_loss: 0.5185 - val_accuracy: 0.7360\n",
            "Epoch 38/50\n",
            "63/63 [==============================] - 8s 116ms/step - loss: 0.5014 - accuracy: 0.7600 - val_loss: 0.4970 - val_accuracy: 0.7540\n",
            "Epoch 39/50\n",
            "63/63 [==============================] - 8s 115ms/step - loss: 0.4904 - accuracy: 0.7680 - val_loss: 0.4910 - val_accuracy: 0.7550\n",
            "Epoch 40/50\n",
            "63/63 [==============================] - 8s 116ms/step - loss: 0.4695 - accuracy: 0.7805 - val_loss: 0.4891 - val_accuracy: 0.7550\n",
            "Epoch 41/50\n",
            "63/63 [==============================] - 7s 114ms/step - loss: 0.4697 - accuracy: 0.7820 - val_loss: 0.5037 - val_accuracy: 0.7710\n",
            "Epoch 42/50\n",
            "63/63 [==============================] - 8s 116ms/step - loss: 0.4617 - accuracy: 0.7835 - val_loss: 0.4606 - val_accuracy: 0.7790\n",
            "Epoch 43/50\n",
            "63/63 [==============================] - 7s 114ms/step - loss: 0.4587 - accuracy: 0.7790 - val_loss: 0.4740 - val_accuracy: 0.7830\n",
            "Epoch 44/50\n",
            "63/63 [==============================] - 7s 114ms/step - loss: 0.4483 - accuracy: 0.7900 - val_loss: 0.4669 - val_accuracy: 0.7800\n",
            "Epoch 45/50\n",
            "63/63 [==============================] - 7s 114ms/step - loss: 0.4351 - accuracy: 0.8000 - val_loss: 0.4739 - val_accuracy: 0.7810\n",
            "Epoch 46/50\n",
            "63/63 [==============================] - 8s 117ms/step - loss: 0.4233 - accuracy: 0.7990 - val_loss: 0.4560 - val_accuracy: 0.7880\n",
            "Epoch 47/50\n",
            "63/63 [==============================] - 7s 114ms/step - loss: 0.4113 - accuracy: 0.8140 - val_loss: 0.4847 - val_accuracy: 0.7920\n",
            "Epoch 48/50\n",
            "63/63 [==============================] - 8s 115ms/step - loss: 0.4333 - accuracy: 0.8020 - val_loss: 0.4497 - val_accuracy: 0.7970\n",
            "Epoch 49/50\n",
            "63/63 [==============================] - 8s 114ms/step - loss: 0.3896 - accuracy: 0.8240 - val_loss: 0.4507 - val_accuracy: 0.7920\n",
            "Epoch 50/50\n",
            "63/63 [==============================] - 8s 115ms/step - loss: 0.4169 - accuracy: 0.8105 - val_loss: 0.4323 - val_accuracy: 0.7950\n"
          ]
        }
      ]
    },
    {
      "cell_type": "code",
      "metadata": {
        "colab": {
          "base_uri": "https://localhost:8080/"
        },
        "id": "dl-PYvrHR2GC",
        "outputId": "253fbbc3-e88d-4ba1-d699-527efaf82a4c"
      },
      "source": [
        "test_model = keras.models.load_model(\n",
        "    \"convnet_from_scratch_with_augmentation1.keras\")\n",
        "test_loss, test_acc = test_model.evaluate(test_dataset)\n",
        "print(f\"Test accuracy: {test_acc:.3f}\")"
      ],
      "execution_count": null,
      "outputs": [
        {
          "output_type": "stream",
          "name": "stdout",
          "text": [
            "32/32 [==============================] - 2s 45ms/step - loss: 0.4798 - accuracy: 0.7590\n",
            "Test accuracy: 0.759\n"
          ]
        }
      ]
    },
    {
      "cell_type": "markdown",
      "metadata": {
        "id": "iLu-7fNMCykm"
      },
      "source": [
        "## Summary for Q1, Q2 and Q3\n",
        "\n",
        "---\n",
        "\n",
        "####  In the first question a small training set of 1000 samples is used and got us training accuracy of 98.25%.\n",
        "\n",
        "#### The data augmentation is done to reduce the overfitting. \n",
        "\n",
        "#### The following are the best approaches to avoid overfitting, as determined by manipulating the training sample and using other optimization techniques.\n",
        "####1. **Increasing the training sample** - It is not always possible to increase the training sample. Data Augmentation is one technique to make the most of the fewer training data.\n",
        "#### 2. **Reducing the network's capacity** - Overfitting is significantly reduced when the model's size is reduced, i.e. the number of learnable parameters in the model, which is effectively the number of layers and the number of units in layers.\n",
        "#### 3. **Adding weight regularization** - Limiting the complexity of a network by constraining the weights to take only tiny values, which helps to regularize the distribution of the weight values, preventing or decreasing overfitting. \n",
        "#### 4. **Adding dropout** - During training, zeroing out a number of the layer's output features helps to reduce overfitting. The percentage of features that are zeroed out is known as the dropout rate.\n",
        "\n",
        "---\n",
        "\n",
        "\n"
      ]
    },
    {
      "cell_type": "markdown",
      "metadata": {
        "id": "LrPR3elMLJgF"
      },
      "source": [
        "##Q4. Repeat Steps 1-3, but now using a pretrained network. The sample sizes you use in Steps 2 and 3 for the pretrained network may be the same or different from those using the network where you trained from scratch. Again, use any and all optimization techniques to get best performance."
      ]
    },
    {
      "cell_type": "markdown",
      "metadata": {
        "id": "Mwki7ouMMs11"
      },
      "source": [
        "#### A particularly effective way for applying deep learning to tiny image datasets is to use a pretrained model. A pretrained model has been trained on a large dataset previously, typically for a large-scale picture classification task.\n",
        "\n",
        "#### In this case, we'll use a large convnet trained on the ImageNet dataset (1.4 million labeled images and 1,000 different classes). We'll use the VGG16 architecture, but there are a number of alternative options available, such as VGG, ResNet, Inception, Xception, and so on.\n",
        "\n"
      ]
    },
    {
      "cell_type": "markdown",
      "metadata": {
        "id": "j69jWRr_LJgF"
      },
      "source": [
        "### Feature extraction with a pretrained model\n",
        "\n",
        "#### Feature extraction is the process of extracting important features from new samples using the representations acquired by a previously trained model (in our instance, ImageNet). These characteristics are then fed into a new classifier that has been trained from the ground up."
      ]
    },
    {
      "cell_type": "markdown",
      "metadata": {
        "id": "zz2pq2ajLJgG"
      },
      "source": [
        "**Instantiating the VGG16 convolutional base**"
      ]
    },
    {
      "cell_type": "code",
      "metadata": {
        "id": "skbTdg2GLJgG",
        "colab": {
          "base_uri": "https://localhost:8080/"
        },
        "outputId": "e5321e34-1d11-421f-ec6f-64c6643f8673"
      },
      "source": [
        "conv_base = keras.applications.vgg16.VGG16(\n",
        "    weights=\"imagenet\",\n",
        "    include_top=False,\n",
        "    input_shape=(180, 180, 3))"
      ],
      "execution_count": null,
      "outputs": [
        {
          "output_type": "stream",
          "name": "stdout",
          "text": [
            "Downloading data from https://storage.googleapis.com/tensorflow/keras-applications/vgg16/vgg16_weights_tf_dim_ordering_tf_kernels_notop.h5\n",
            "58892288/58889256 [==============================] - 1s 0us/step\n",
            "58900480/58889256 [==============================] - 1s 0us/step\n"
          ]
        }
      ]
    },
    {
      "cell_type": "code",
      "metadata": {
        "id": "pE4zRVz7LJgG",
        "colab": {
          "base_uri": "https://localhost:8080/"
        },
        "outputId": "20a4c2e1-fa1d-439c-e10c-1d0acba2795f"
      },
      "source": [
        "conv_base.summary()"
      ],
      "execution_count": null,
      "outputs": [
        {
          "output_type": "stream",
          "name": "stdout",
          "text": [
            "Model: \"vgg16\"\n",
            "_________________________________________________________________\n",
            " Layer (type)                Output Shape              Param #   \n",
            "=================================================================\n",
            " input_4 (InputLayer)        [(None, 180, 180, 3)]     0         \n",
            "                                                                 \n",
            " block1_conv1 (Conv2D)       (None, 180, 180, 64)      1792      \n",
            "                                                                 \n",
            " block1_conv2 (Conv2D)       (None, 180, 180, 64)      36928     \n",
            "                                                                 \n",
            " block1_pool (MaxPooling2D)  (None, 90, 90, 64)        0         \n",
            "                                                                 \n",
            " block2_conv1 (Conv2D)       (None, 90, 90, 128)       73856     \n",
            "                                                                 \n",
            " block2_conv2 (Conv2D)       (None, 90, 90, 128)       147584    \n",
            "                                                                 \n",
            " block2_pool (MaxPooling2D)  (None, 45, 45, 128)       0         \n",
            "                                                                 \n",
            " block3_conv1 (Conv2D)       (None, 45, 45, 256)       295168    \n",
            "                                                                 \n",
            " block3_conv2 (Conv2D)       (None, 45, 45, 256)       590080    \n",
            "                                                                 \n",
            " block3_conv3 (Conv2D)       (None, 45, 45, 256)       590080    \n",
            "                                                                 \n",
            " block3_pool (MaxPooling2D)  (None, 22, 22, 256)       0         \n",
            "                                                                 \n",
            " block4_conv1 (Conv2D)       (None, 22, 22, 512)       1180160   \n",
            "                                                                 \n",
            " block4_conv2 (Conv2D)       (None, 22, 22, 512)       2359808   \n",
            "                                                                 \n",
            " block4_conv3 (Conv2D)       (None, 22, 22, 512)       2359808   \n",
            "                                                                 \n",
            " block4_pool (MaxPooling2D)  (None, 11, 11, 512)       0         \n",
            "                                                                 \n",
            " block5_conv1 (Conv2D)       (None, 11, 11, 512)       2359808   \n",
            "                                                                 \n",
            " block5_conv2 (Conv2D)       (None, 11, 11, 512)       2359808   \n",
            "                                                                 \n",
            " block5_conv3 (Conv2D)       (None, 11, 11, 512)       2359808   \n",
            "                                                                 \n",
            " block5_pool (MaxPooling2D)  (None, 5, 5, 512)         0         \n",
            "                                                                 \n",
            "=================================================================\n",
            "Total params: 14,714,688\n",
            "Trainable params: 14,714,688\n",
            "Non-trainable params: 0\n",
            "_________________________________________________________________\n"
          ]
        }
      ]
    },
    {
      "cell_type": "markdown",
      "metadata": {
        "id": "SfdIeb-CLJgG"
      },
      "source": [
        "### Feature extraction without data augmentation using a pretrained model"
      ]
    },
    {
      "cell_type": "markdown",
      "metadata": {
        "id": "IuoRUabiLJgG"
      },
      "source": [
        "**Extracting the VGG16 features and corresponding labels**"
      ]
    },
    {
      "cell_type": "code",
      "metadata": {
        "id": "diN5BO8WLJgG"
      },
      "source": [
        "import numpy as np\n",
        "\n",
        "def get_features_and_labels(dataset):\n",
        "    all_features = []\n",
        "    all_labels = []\n",
        "    for images, labels in dataset:\n",
        "        preprocessed_images = keras.applications.vgg16.preprocess_input(images)\n",
        "        features = conv_base.predict(preprocessed_images)\n",
        "        all_features.append(features)\n",
        "        all_labels.append(labels)\n",
        "    return np.concatenate(all_features), np.concatenate(all_labels)\n",
        "\n",
        "train_features, train_labels =  get_features_and_labels(train_dataset)\n",
        "val_features, val_labels =  get_features_and_labels(validation_dataset)\n",
        "test_features, test_labels =  get_features_and_labels(test_dataset)"
      ],
      "execution_count": null,
      "outputs": []
    },
    {
      "cell_type": "code",
      "metadata": {
        "id": "Sfa_c6LQLJgG",
        "colab": {
          "base_uri": "https://localhost:8080/"
        },
        "outputId": "07c07226-5ef0-4f97-d8fc-4dc342d40da3"
      },
      "source": [
        "train_features.shape"
      ],
      "execution_count": null,
      "outputs": [
        {
          "output_type": "execute_result",
          "data": {
            "text/plain": [
              "(2000, 5, 5, 512)"
            ]
          },
          "metadata": {},
          "execution_count": 34
        }
      ]
    },
    {
      "cell_type": "markdown",
      "metadata": {
        "id": "3hK0qBZZLJgH"
      },
      "source": [
        "**Defining and training the densely connected classifier**"
      ]
    },
    {
      "cell_type": "code",
      "metadata": {
        "id": "taVrYpkcLJgH",
        "colab": {
          "base_uri": "https://localhost:8080/"
        },
        "outputId": "e4642939-ebed-4bec-9f72-c906f75d39cd"
      },
      "source": [
        "inputs = keras.Input(shape=(5, 5, 512))\n",
        "x = layers.Flatten()(inputs)\n",
        "x = layers.Dense(256)(x)\n",
        "x = layers.Dropout(0.5)(x)\n",
        "outputs = layers.Dense(1, activation=\"sigmoid\")(x)\n",
        "model = keras.Model(inputs, outputs)\n",
        "model.compile(loss=\"binary_crossentropy\",\n",
        "              optimizer=\"rmsprop\",\n",
        "              metrics=[\"accuracy\"])\n",
        "\n",
        "callbacks = [\n",
        "    keras.callbacks.ModelCheckpoint(\n",
        "      filepath=\"feature_extraction.keras\",\n",
        "      save_best_only=True,\n",
        "      monitor=\"val_loss\")\n",
        "]\n",
        "history = model.fit(\n",
        "    train_features, train_labels,\n",
        "    epochs=20,\n",
        "    validation_data=(val_features, val_labels),\n",
        "    callbacks=callbacks)"
      ],
      "execution_count": null,
      "outputs": [
        {
          "output_type": "stream",
          "name": "stdout",
          "text": [
            "Epoch 1/20\n",
            "63/63 [==============================] - 2s 13ms/step - loss: 17.4528 - accuracy: 0.9220 - val_loss: 2.6868 - val_accuracy: 0.9740\n",
            "Epoch 2/20\n",
            "63/63 [==============================] - 1s 8ms/step - loss: 3.3257 - accuracy: 0.9775 - val_loss: 3.4801 - val_accuracy: 0.9740\n",
            "Epoch 3/20\n",
            "63/63 [==============================] - 1s 9ms/step - loss: 3.0231 - accuracy: 0.9825 - val_loss: 5.4203 - val_accuracy: 0.9700\n",
            "Epoch 4/20\n",
            "63/63 [==============================] - 1s 9ms/step - loss: 0.8660 - accuracy: 0.9930 - val_loss: 4.5324 - val_accuracy: 0.9770\n",
            "Epoch 5/20\n",
            "63/63 [==============================] - 1s 9ms/step - loss: 1.3975 - accuracy: 0.9915 - val_loss: 4.7003 - val_accuracy: 0.9720\n",
            "Epoch 6/20\n",
            "63/63 [==============================] - 1s 8ms/step - loss: 0.8457 - accuracy: 0.9930 - val_loss: 5.4750 - val_accuracy: 0.9750\n",
            "Epoch 7/20\n",
            "63/63 [==============================] - 1s 9ms/step - loss: 0.6933 - accuracy: 0.9935 - val_loss: 6.2478 - val_accuracy: 0.9710\n",
            "Epoch 8/20\n",
            "63/63 [==============================] - 1s 9ms/step - loss: 0.6413 - accuracy: 0.9945 - val_loss: 6.6731 - val_accuracy: 0.9730\n",
            "Epoch 9/20\n",
            "63/63 [==============================] - 1s 9ms/step - loss: 0.6156 - accuracy: 0.9960 - val_loss: 6.1758 - val_accuracy: 0.9740\n",
            "Epoch 10/20\n",
            "63/63 [==============================] - 1s 8ms/step - loss: 0.1837 - accuracy: 0.9970 - val_loss: 5.5964 - val_accuracy: 0.9790\n",
            "Epoch 11/20\n",
            "63/63 [==============================] - 1s 9ms/step - loss: 0.2256 - accuracy: 0.9960 - val_loss: 5.1449 - val_accuracy: 0.9800\n",
            "Epoch 12/20\n",
            "63/63 [==============================] - 1s 9ms/step - loss: 9.6336e-08 - accuracy: 1.0000 - val_loss: 5.0954 - val_accuracy: 0.9800\n",
            "Epoch 13/20\n",
            "63/63 [==============================] - 1s 9ms/step - loss: 0.2298 - accuracy: 0.9980 - val_loss: 4.9581 - val_accuracy: 0.9810\n",
            "Epoch 14/20\n",
            "63/63 [==============================] - 1s 10ms/step - loss: 0.0876 - accuracy: 0.9980 - val_loss: 5.6362 - val_accuracy: 0.9780\n",
            "Epoch 15/20\n",
            "63/63 [==============================] - 1s 9ms/step - loss: 1.2528e-32 - accuracy: 1.0000 - val_loss: 5.6362 - val_accuracy: 0.9780\n",
            "Epoch 16/20\n",
            "63/63 [==============================] - 1s 9ms/step - loss: 0.0059 - accuracy: 0.9995 - val_loss: 6.5531 - val_accuracy: 0.9720\n",
            "Epoch 17/20\n",
            "63/63 [==============================] - 1s 9ms/step - loss: 0.1620 - accuracy: 0.9975 - val_loss: 5.6375 - val_accuracy: 0.9780\n",
            "Epoch 18/20\n",
            "63/63 [==============================] - 1s 10ms/step - loss: 0.2859 - accuracy: 0.9975 - val_loss: 10.3702 - val_accuracy: 0.9650\n",
            "Epoch 19/20\n",
            "63/63 [==============================] - 1s 10ms/step - loss: 0.2036 - accuracy: 0.9995 - val_loss: 5.8133 - val_accuracy: 0.9800\n",
            "Epoch 20/20\n",
            "63/63 [==============================] - 1s 10ms/step - loss: 5.4594e-35 - accuracy: 1.0000 - val_loss: 5.8133 - val_accuracy: 0.9800\n"
          ]
        }
      ]
    },
    {
      "cell_type": "markdown",
      "metadata": {
        "id": "OIgzvXnHLJgH"
      },
      "source": [
        "**Plotting the results**"
      ]
    },
    {
      "cell_type": "code",
      "metadata": {
        "id": "8_s5AqAjLJgH",
        "colab": {
          "base_uri": "https://localhost:8080/",
          "height": 545
        },
        "outputId": "c48c9c8b-4b35-4db3-fc9a-af53435c8e56"
      },
      "source": [
        "import matplotlib.pyplot as plt\n",
        "acc = history.history[\"accuracy\"]\n",
        "val_acc = history.history[\"val_accuracy\"]\n",
        "loss = history.history[\"loss\"]\n",
        "val_loss = history.history[\"val_loss\"]\n",
        "epochs = range(1, len(acc) + 1)\n",
        "plt.plot(epochs, acc, \"bo\", label=\"Training accuracy\")\n",
        "plt.plot(epochs, val_acc, \"b\", label=\"Validation accuracy\")\n",
        "plt.title(\"Training and validation accuracy\")\n",
        "plt.legend()\n",
        "plt.figure()\n",
        "plt.plot(epochs, loss, \"bo\", label=\"Training loss\")\n",
        "plt.plot(epochs, val_loss, \"b\", label=\"Validation loss\")\n",
        "plt.title(\"Training and validation loss\")\n",
        "plt.legend()\n",
        "plt.show()"
      ],
      "execution_count": null,
      "outputs": [
        {
          "output_type": "display_data",
          "data": {
            "text/plain": [
              "<Figure size 432x288 with 1 Axes>"
            ],
            "image/png": "[encoded data removed]"
          },
          "metadata": {
            "needs_background": "light"
          }
        },
        {
          "output_type": "display_data",
          "data": {
            "text/plain": [
              "<Figure size 432x288 with 1 Axes>"
            ],
            "image/png": "[encoded data removed]"
          },
          "metadata": {
            "needs_background": "light"
          }
        }
      ]
    },
    {
      "cell_type": "markdown",
      "metadata": {
        "id": "0XzEsaqmLJgH"
      },
      "source": [
        "### Feature extraction with data augmentation using a pretrained model\n",
        "\n",
        "### Test Accuracy - 97.7%\n",
        "\n",
        "### Validation Accuracy - 98.4%\n",
        "\n",
        "### Training Accuracy - 98.9%"
      ]
    },
    {
      "cell_type": "markdown",
      "metadata": {
        "id": "xbNGfHSmLJgH"
      },
      "source": [
        "**Instantiating and freezing the VGG16 convolutional base**"
      ]
    },
    {
      "cell_type": "code",
      "metadata": {
        "id": "4dQb9DQCLJgI"
      },
      "source": [
        "conv_base  = keras.applications.vgg16.VGG16(\n",
        "    weights=\"imagenet\",\n",
        "    include_top=False)\n",
        "conv_base.trainable = False"
      ],
      "execution_count": null,
      "outputs": []
    },
    {
      "cell_type": "markdown",
      "metadata": {
        "id": "lo4EDoRLLJgI"
      },
      "source": [
        "**Printing the list of trainable weights before and after freezing**"
      ]
    },
    {
      "cell_type": "code",
      "metadata": {
        "id": "uXuWbLaXLJgI",
        "colab": {
          "base_uri": "https://localhost:8080/"
        },
        "outputId": "042a14c1-4e74-4300-9166-8774ce56bdbf"
      },
      "source": [
        "conv_base.trainable = True\n",
        "print(\"This is the number of trainable weights \"\n",
        "      \"before freezing the conv base:\", len(conv_base.trainable_weights))"
      ],
      "execution_count": null,
      "outputs": [
        {
          "output_type": "stream",
          "name": "stdout",
          "text": [
            "This is the number of trainable weights before freezing the conv base: 26\n"
          ]
        }
      ]
    },
    {
      "cell_type": "code",
      "metadata": {
        "id": "ymDWZ8j4LJgI",
        "colab": {
          "base_uri": "https://localhost:8080/"
        },
        "outputId": "08b789f2-9f70-459f-a666-791c732ca429"
      },
      "source": [
        "conv_base.trainable = False\n",
        "print(\"This is the number of trainable weights \"\n",
        "      \"after freezing the conv base:\", len(conv_base.trainable_weights))"
      ],
      "execution_count": null,
      "outputs": [
        {
          "output_type": "stream",
          "name": "stdout",
          "text": [
            "This is the number of trainable weights after freezing the conv base: 0\n"
          ]
        }
      ]
    },
    {
      "cell_type": "markdown",
      "metadata": {
        "id": "23uNfxn6LJgI"
      },
      "source": [
        "**Adding a data augmentation stage and a classifier to the convolutional base**"
      ]
    },
    {
      "cell_type": "code",
      "metadata": {
        "id": "VNgRDR0hLJgI"
      },
      "source": [
        "data_augmentation = keras.Sequential(\n",
        "    [\n",
        "        layers.RandomFlip(\"horizontal\"),\n",
        "        layers.RandomRotation(0.1),\n",
        "        layers.RandomZoom(0.2),\n",
        "    ]\n",
        ")\n",
        "\n",
        "inputs = keras.Input(shape=(180, 180, 3))\n",
        "x = data_augmentation(inputs)\n",
        "x = keras.applications.vgg16.preprocess_input(x)\n",
        "x = conv_base(x)\n",
        "x = layers.Flatten()(x)\n",
        "x = layers.Dense(256)(x)\n",
        "x = layers.Dropout(0.5)(x)\n",
        "outputs = layers.Dense(1, activation=\"sigmoid\")(x)\n",
        "model = keras.Model(inputs, outputs)\n",
        "model.compile(loss=\"binary_crossentropy\",\n",
        "              optimizer=\"rmsprop\",\n",
        "              metrics=[\"accuracy\"])"
      ],
      "execution_count": null,
      "outputs": []
    },
    {
      "cell_type": "code",
      "metadata": {
        "id": "rktZ-i64LJgI",
        "colab": {
          "base_uri": "https://localhost:8080/"
        },
        "outputId": "b02f790c-7d4f-4ce0-86c4-c368f20d0ec8"
      },
      "source": [
        "callbacks = [\n",
        "    keras.callbacks.ModelCheckpoint(\n",
        "        filepath=\"feature_extraction_with_data_augmentation.keras\",\n",
        "        save_best_only=True,\n",
        "        monitor=\"val_loss\")\n",
        "]\n",
        "history = model.fit(\n",
        "    train_dataset,\n",
        "    epochs=50,\n",
        "    validation_data=validation_dataset,\n",
        "    callbacks=callbacks)"
      ],
      "execution_count": null,
      "outputs": [
        {
          "output_type": "stream",
          "name": "stdout",
          "text": [
            "Epoch 1/50\n",
            "63/63 [==============================] - 23s 343ms/step - loss: 19.5962 - accuracy: 0.8985 - val_loss: 9.2689 - val_accuracy: 0.9440\n",
            "Epoch 2/50\n",
            "63/63 [==============================] - 21s 330ms/step - loss: 7.2744 - accuracy: 0.9425 - val_loss: 10.1028 - val_accuracy: 0.9520\n",
            "Epoch 3/50\n",
            "63/63 [==============================] - 21s 334ms/step - loss: 3.3768 - accuracy: 0.9575 - val_loss: 3.4755 - val_accuracy: 0.9810\n",
            "Epoch 4/50\n",
            "63/63 [==============================] - 21s 330ms/step - loss: 5.2862 - accuracy: 0.9560 - val_loss: 6.7198 - val_accuracy: 0.9680\n",
            "Epoch 5/50\n",
            "63/63 [==============================] - 21s 331ms/step - loss: 4.5670 - accuracy: 0.9675 - val_loss: 5.2929 - val_accuracy: 0.9670\n",
            "Epoch 6/50\n",
            "63/63 [==============================] - 21s 332ms/step - loss: 4.0862 - accuracy: 0.9670 - val_loss: 4.3736 - val_accuracy: 0.9800\n",
            "Epoch 7/50\n",
            "63/63 [==============================] - 21s 332ms/step - loss: 3.5193 - accuracy: 0.9640 - val_loss: 4.0204 - val_accuracy: 0.9770\n",
            "Epoch 8/50\n",
            "63/63 [==============================] - 21s 334ms/step - loss: 3.2029 - accuracy: 0.9715 - val_loss: 3.2939 - val_accuracy: 0.9750\n",
            "Epoch 9/50\n",
            "63/63 [==============================] - 21s 330ms/step - loss: 2.7820 - accuracy: 0.9740 - val_loss: 6.7374 - val_accuracy: 0.9700\n",
            "Epoch 10/50\n",
            "63/63 [==============================] - 21s 334ms/step - loss: 2.8004 - accuracy: 0.9760 - val_loss: 2.2470 - val_accuracy: 0.9800\n",
            "Epoch 11/50\n",
            "63/63 [==============================] - 21s 334ms/step - loss: 1.8547 - accuracy: 0.9800 - val_loss: 1.8302 - val_accuracy: 0.9880\n",
            "Epoch 12/50\n",
            "63/63 [==============================] - 21s 330ms/step - loss: 1.7060 - accuracy: 0.9815 - val_loss: 3.4710 - val_accuracy: 0.9730\n",
            "Epoch 13/50\n",
            "63/63 [==============================] - 21s 330ms/step - loss: 2.5463 - accuracy: 0.9760 - val_loss: 3.9759 - val_accuracy: 0.9730\n",
            "Epoch 14/50\n",
            "63/63 [==============================] - 21s 330ms/step - loss: 1.9522 - accuracy: 0.9785 - val_loss: 2.6001 - val_accuracy: 0.9810\n",
            "Epoch 15/50\n",
            "63/63 [==============================] - 21s 331ms/step - loss: 1.9540 - accuracy: 0.9765 - val_loss: 4.8623 - val_accuracy: 0.9690\n",
            "Epoch 16/50\n",
            "63/63 [==============================] - 21s 330ms/step - loss: 1.3890 - accuracy: 0.9825 - val_loss: 2.9239 - val_accuracy: 0.9770\n",
            "Epoch 17/50\n",
            "63/63 [==============================] - 21s 330ms/step - loss: 1.8273 - accuracy: 0.9810 - val_loss: 4.1145 - val_accuracy: 0.9710\n",
            "Epoch 18/50\n",
            "63/63 [==============================] - 21s 331ms/step - loss: 1.2343 - accuracy: 0.9810 - val_loss: 3.1646 - val_accuracy: 0.9760\n",
            "Epoch 19/50\n",
            "63/63 [==============================] - 21s 331ms/step - loss: 1.5691 - accuracy: 0.9820 - val_loss: 3.2168 - val_accuracy: 0.9720\n",
            "Epoch 20/50\n",
            "63/63 [==============================] - 21s 331ms/step - loss: 1.1362 - accuracy: 0.9870 - val_loss: 2.8770 - val_accuracy: 0.9770\n",
            "Epoch 21/50\n",
            "63/63 [==============================] - 21s 330ms/step - loss: 0.8575 - accuracy: 0.9850 - val_loss: 2.4677 - val_accuracy: 0.9780\n",
            "Epoch 22/50\n",
            "63/63 [==============================] - 21s 330ms/step - loss: 1.3736 - accuracy: 0.9815 - val_loss: 2.2102 - val_accuracy: 0.9750\n",
            "Epoch 23/50\n",
            "63/63 [==============================] - 21s 331ms/step - loss: 1.0652 - accuracy: 0.9825 - val_loss: 4.2928 - val_accuracy: 0.9770\n",
            "Epoch 24/50\n",
            "63/63 [==============================] - 21s 331ms/step - loss: 1.2538 - accuracy: 0.9815 - val_loss: 2.1816 - val_accuracy: 0.9810\n",
            "Epoch 25/50\n",
            "63/63 [==============================] - 21s 330ms/step - loss: 1.3815 - accuracy: 0.9805 - val_loss: 2.6461 - val_accuracy: 0.9820\n",
            "Epoch 26/50\n",
            "63/63 [==============================] - 21s 331ms/step - loss: 0.8658 - accuracy: 0.9865 - val_loss: 2.6517 - val_accuracy: 0.9810\n",
            "Epoch 27/50\n",
            "63/63 [==============================] - 21s 335ms/step - loss: 1.0344 - accuracy: 0.9865 - val_loss: 1.7288 - val_accuracy: 0.9770\n",
            "Epoch 28/50\n",
            "63/63 [==============================] - 21s 330ms/step - loss: 0.8843 - accuracy: 0.9820 - val_loss: 2.3384 - val_accuracy: 0.9810\n",
            "Epoch 29/50\n",
            "63/63 [==============================] - 21s 332ms/step - loss: 1.0790 - accuracy: 0.9835 - val_loss: 1.8325 - val_accuracy: 0.9760\n",
            "Epoch 30/50\n",
            "63/63 [==============================] - 21s 330ms/step - loss: 0.6328 - accuracy: 0.9875 - val_loss: 2.0999 - val_accuracy: 0.9780\n",
            "Epoch 31/50\n",
            "63/63 [==============================] - 21s 330ms/step - loss: 1.0706 - accuracy: 0.9820 - val_loss: 2.8445 - val_accuracy: 0.9710\n",
            "Epoch 32/50\n",
            "63/63 [==============================] - 21s 330ms/step - loss: 1.0804 - accuracy: 0.9810 - val_loss: 2.4005 - val_accuracy: 0.9740\n",
            "Epoch 33/50\n",
            "63/63 [==============================] - 21s 331ms/step - loss: 0.5675 - accuracy: 0.9890 - val_loss: 2.2966 - val_accuracy: 0.9790\n",
            "Epoch 34/50\n",
            "63/63 [==============================] - 21s 331ms/step - loss: 0.9704 - accuracy: 0.9835 - val_loss: 2.2995 - val_accuracy: 0.9780\n",
            "Epoch 35/50\n",
            "63/63 [==============================] - 21s 330ms/step - loss: 0.4247 - accuracy: 0.9910 - val_loss: 1.9002 - val_accuracy: 0.9820\n",
            "Epoch 36/50\n",
            "63/63 [==============================] - 21s 330ms/step - loss: 0.7202 - accuracy: 0.9830 - val_loss: 2.2788 - val_accuracy: 0.9810\n",
            "Epoch 37/50\n",
            "63/63 [==============================] - 21s 329ms/step - loss: 0.7814 - accuracy: 0.9885 - val_loss: 2.2817 - val_accuracy: 0.9800\n",
            "Epoch 38/50\n",
            "63/63 [==============================] - 21s 330ms/step - loss: 0.2262 - accuracy: 0.9940 - val_loss: 2.8003 - val_accuracy: 0.9770\n",
            "Epoch 39/50\n",
            "63/63 [==============================] - 21s 331ms/step - loss: 0.5656 - accuracy: 0.9910 - val_loss: 1.9745 - val_accuracy: 0.9800\n",
            "Epoch 40/50\n",
            "63/63 [==============================] - 21s 330ms/step - loss: 0.3044 - accuracy: 0.9900 - val_loss: 2.0089 - val_accuracy: 0.9780\n",
            "Epoch 41/50\n",
            "63/63 [==============================] - 21s 330ms/step - loss: 0.4165 - accuracy: 0.9885 - val_loss: 2.2002 - val_accuracy: 0.9800\n",
            "Epoch 42/50\n",
            "63/63 [==============================] - 21s 329ms/step - loss: 0.6222 - accuracy: 0.9880 - val_loss: 1.7432 - val_accuracy: 0.9790\n",
            "Epoch 43/50\n",
            "63/63 [==============================] - 21s 333ms/step - loss: 0.7167 - accuracy: 0.9875 - val_loss: 1.6806 - val_accuracy: 0.9850\n",
            "Epoch 44/50\n",
            "63/63 [==============================] - 21s 331ms/step - loss: 0.9180 - accuracy: 0.9870 - val_loss: 1.7042 - val_accuracy: 0.9840\n",
            "Epoch 45/50\n",
            "63/63 [==============================] - 21s 332ms/step - loss: 0.4385 - accuracy: 0.9920 - val_loss: 4.2036 - val_accuracy: 0.9700\n",
            "Epoch 46/50\n",
            "63/63 [==============================] - 21s 332ms/step - loss: 0.6469 - accuracy: 0.9910 - val_loss: 2.2450 - val_accuracy: 0.9820\n",
            "Epoch 47/50\n",
            "63/63 [==============================] - 21s 332ms/step - loss: 0.4354 - accuracy: 0.9870 - val_loss: 1.9499 - val_accuracy: 0.9820\n",
            "Epoch 48/50\n",
            "63/63 [==============================] - 21s 330ms/step - loss: 0.4795 - accuracy: 0.9895 - val_loss: 2.7533 - val_accuracy: 0.9760\n",
            "Epoch 49/50\n",
            "63/63 [==============================] - 21s 330ms/step - loss: 0.5193 - accuracy: 0.9910 - val_loss: 1.8386 - val_accuracy: 0.9830\n",
            "Epoch 50/50\n",
            "63/63 [==============================] - 21s 331ms/step - loss: 0.5625 - accuracy: 0.9890 - val_loss: 1.9510 - val_accuracy: 0.9840\n"
          ]
        }
      ]
    },
    {
      "cell_type": "markdown",
      "metadata": {
        "id": "NZeVqDgrLJgJ"
      },
      "source": [
        "**Evaluating the model on the test set**"
      ]
    },
    {
      "cell_type": "code",
      "metadata": {
        "id": "1a7rXKp5LJgJ",
        "colab": {
          "base_uri": "https://localhost:8080/"
        },
        "outputId": "dbe6ed42-f9b9-4afd-d7a9-e1fc14e06808"
      },
      "source": [
        "test_model = keras.models.load_model(\n",
        "    \"feature_extraction_with_data_augmentation.keras\")\n",
        "test_loss, test_acc = test_model.evaluate(test_dataset)\n",
        "print(f\"Test accuracy: {test_acc:.3f}\")"
      ],
      "execution_count": null,
      "outputs": [
        {
          "output_type": "stream",
          "name": "stdout",
          "text": [
            "32/32 [==============================] - 7s 208ms/step - loss: 2.6353 - accuracy: 0.9770\n",
            "Test accuracy: 0.977\n"
          ]
        }
      ]
    },
    {
      "cell_type": "markdown",
      "metadata": {
        "id": "D51I3dJALJgJ"
      },
      "source": [
        "### A pretrained VGG16 model with Fine-tuning \n",
        "\n",
        "#### Unfreezing a few of the top layers of a frozen model base used for feature extraction and jointly training both the newly added part of the model (in this case, the fully connected classifier) and these top layers termed fine-tuning. This is referred to as fine-tuning because it modifies the more abstract representations of the model that are being reused to make them more relevant to the task at hand.\n",
        "\n",
        "### test accuracy - 97.60%\n",
        "\n",
        "### training accuracy - 99.55%\n",
        "\n",
        "### validation accuracy - 97.90%\n"
      ]
    },
    {
      "cell_type": "code",
      "metadata": {
        "id": "N0V2rv5RLJgJ",
        "colab": {
          "base_uri": "https://localhost:8080/"
        },
        "outputId": "1b26a7e4-41a8-4ea2-f7ac-d66b5afbcfbb"
      },
      "source": [
        "conv_base.summary()"
      ],
      "execution_count": null,
      "outputs": [
        {
          "output_type": "stream",
          "name": "stdout",
          "text": [
            "Model: \"vgg16\"\n",
            "_________________________________________________________________\n",
            " Layer (type)                Output Shape              Param #   \n",
            "=================================================================\n",
            " input_6 (InputLayer)        [(None, None, None, 3)]   0         \n",
            "                                                                 \n",
            " block1_conv1 (Conv2D)       (None, None, None, 64)    1792      \n",
            "                                                                 \n",
            " block1_conv2 (Conv2D)       (None, None, None, 64)    36928     \n",
            "                                                                 \n",
            " block1_pool (MaxPooling2D)  (None, None, None, 64)    0         \n",
            "                                                                 \n",
            " block2_conv1 (Conv2D)       (None, None, None, 128)   73856     \n",
            "                                                                 \n",
            " block2_conv2 (Conv2D)       (None, None, None, 128)   147584    \n",
            "                                                                 \n",
            " block2_pool (MaxPooling2D)  (None, None, None, 128)   0         \n",
            "                                                                 \n",
            " block3_conv1 (Conv2D)       (None, None, None, 256)   295168    \n",
            "                                                                 \n",
            " block3_conv2 (Conv2D)       (None, None, None, 256)   590080    \n",
            "                                                                 \n",
            " block3_conv3 (Conv2D)       (None, None, None, 256)   590080    \n",
            "                                                                 \n",
            " block3_pool (MaxPooling2D)  (None, None, None, 256)   0         \n",
            "                                                                 \n",
            " block4_conv1 (Conv2D)       (None, None, None, 512)   1180160   \n",
            "                                                                 \n",
            " block4_conv2 (Conv2D)       (None, None, None, 512)   2359808   \n",
            "                                                                 \n",
            " block4_conv3 (Conv2D)       (None, None, None, 512)   2359808   \n",
            "                                                                 \n",
            " block4_pool (MaxPooling2D)  (None, None, None, 512)   0         \n",
            "                                                                 \n",
            " block5_conv1 (Conv2D)       (None, None, None, 512)   2359808   \n",
            "                                                                 \n",
            " block5_conv2 (Conv2D)       (None, None, None, 512)   2359808   \n",
            "                                                                 \n",
            " block5_conv3 (Conv2D)       (None, None, None, 512)   2359808   \n",
            "                                                                 \n",
            " block5_pool (MaxPooling2D)  (None, None, None, 512)   0         \n",
            "                                                                 \n",
            "=================================================================\n",
            "Total params: 14,714,688\n",
            "Trainable params: 0\n",
            "Non-trainable params: 14,714,688\n",
            "_________________________________________________________________\n"
          ]
        }
      ]
    },
    {
      "cell_type": "markdown",
      "metadata": {
        "id": "cUR7EUYmLJgJ"
      },
      "source": [
        "**Freezing all layers until the fourth from the last**"
      ]
    },
    {
      "cell_type": "code",
      "metadata": {
        "id": "9afcG21WLJgJ"
      },
      "source": [
        "conv_base.trainable = True\n",
        "for layer in conv_base.layers[:-4]:\n",
        "    layer.trainable = False"
      ],
      "execution_count": null,
      "outputs": []
    },
    {
      "cell_type": "markdown",
      "metadata": {
        "id": "44SPsGOiLJgJ"
      },
      "source": [
        "**Fine-tuning the model**"
      ]
    },
    {
      "cell_type": "code",
      "metadata": {
        "id": "BNfNf5C6LJgJ",
        "colab": {
          "base_uri": "https://localhost:8080/"
        },
        "outputId": "e76c33c3-9d89-4318-fd03-3d4424f8ffcd"
      },
      "source": [
        "model.compile(loss=\"binary_crossentropy\",\n",
        "              optimizer=keras.optimizers.RMSprop(learning_rate=1e-5),\n",
        "              metrics=[\"accuracy\"])\n",
        "\n",
        "callbacks = [\n",
        "    keras.callbacks.ModelCheckpoint(\n",
        "        filepath=\"fine_tuning.keras\",\n",
        "        save_best_only=True,\n",
        "        monitor=\"val_loss\")\n",
        "]\n",
        "history = model.fit(\n",
        "    train_dataset,\n",
        "    epochs=30,\n",
        "    validation_data=validation_dataset,\n",
        "    callbacks=callbacks)"
      ],
      "execution_count": null,
      "outputs": [
        {
          "output_type": "stream",
          "name": "stdout",
          "text": [
            "Epoch 1/30\n",
            "63/63 [==============================] - 25s 365ms/step - loss: 0.4605 - accuracy: 0.9910 - val_loss: 1.8488 - val_accuracy: 0.9810\n",
            "Epoch 2/30\n",
            "63/63 [==============================] - 23s 360ms/step - loss: 0.3669 - accuracy: 0.9910 - val_loss: 2.0028 - val_accuracy: 0.9810\n",
            "Epoch 3/30\n",
            "63/63 [==============================] - 23s 359ms/step - loss: 0.4659 - accuracy: 0.9910 - val_loss: 2.0479 - val_accuracy: 0.9820\n",
            "Epoch 4/30\n",
            "63/63 [==============================] - 23s 358ms/step - loss: 0.2658 - accuracy: 0.9910 - val_loss: 2.0922 - val_accuracy: 0.9810\n",
            "Epoch 5/30\n",
            "63/63 [==============================] - 23s 359ms/step - loss: 0.4372 - accuracy: 0.9910 - val_loss: 2.3742 - val_accuracy: 0.9790\n",
            "Epoch 6/30\n",
            "63/63 [==============================] - 23s 358ms/step - loss: 0.2483 - accuracy: 0.9930 - val_loss: 2.0797 - val_accuracy: 0.9800\n",
            "Epoch 7/30\n",
            "63/63 [==============================] - 23s 363ms/step - loss: 0.2834 - accuracy: 0.9940 - val_loss: 1.8031 - val_accuracy: 0.9780\n",
            "Epoch 8/30\n",
            "63/63 [==============================] - 23s 363ms/step - loss: 0.1762 - accuracy: 0.9955 - val_loss: 1.6654 - val_accuracy: 0.9790\n",
            "Epoch 9/30\n",
            "63/63 [==============================] - 23s 359ms/step - loss: 0.2624 - accuracy: 0.9930 - val_loss: 1.8917 - val_accuracy: 0.9790\n",
            "Epoch 10/30\n",
            "63/63 [==============================] - 23s 360ms/step - loss: 0.3123 - accuracy: 0.9930 - val_loss: 2.8881 - val_accuracy: 0.9730\n",
            "Epoch 11/30\n",
            "63/63 [==============================] - 23s 359ms/step - loss: 0.3676 - accuracy: 0.9935 - val_loss: 1.8139 - val_accuracy: 0.9780\n",
            "Epoch 12/30\n",
            "63/63 [==============================] - 23s 360ms/step - loss: 0.1648 - accuracy: 0.9935 - val_loss: 2.9070 - val_accuracy: 0.9710\n",
            "Epoch 13/30\n",
            "63/63 [==============================] - 23s 358ms/step - loss: 0.2765 - accuracy: 0.9930 - val_loss: 1.7068 - val_accuracy: 0.9820\n",
            "Epoch 14/30\n",
            "63/63 [==============================] - 23s 357ms/step - loss: 0.0701 - accuracy: 0.9960 - val_loss: 1.7295 - val_accuracy: 0.9810\n",
            "Epoch 15/30\n",
            "63/63 [==============================] - 23s 363ms/step - loss: 0.1886 - accuracy: 0.9940 - val_loss: 1.6026 - val_accuracy: 0.9800\n",
            "Epoch 16/30\n",
            "63/63 [==============================] - 23s 363ms/step - loss: 0.1569 - accuracy: 0.9955 - val_loss: 1.5041 - val_accuracy: 0.9800\n",
            "Epoch 17/30\n",
            "63/63 [==============================] - 23s 359ms/step - loss: 0.1489 - accuracy: 0.9945 - val_loss: 1.6319 - val_accuracy: 0.9800\n",
            "Epoch 18/30\n",
            "63/63 [==============================] - 23s 363ms/step - loss: 0.0445 - accuracy: 0.9980 - val_loss: 1.4268 - val_accuracy: 0.9820\n",
            "Epoch 19/30\n",
            "63/63 [==============================] - 23s 358ms/step - loss: 0.1778 - accuracy: 0.9930 - val_loss: 1.7938 - val_accuracy: 0.9780\n",
            "Epoch 20/30\n",
            "63/63 [==============================] - 23s 358ms/step - loss: 0.1388 - accuracy: 0.9945 - val_loss: 1.8028 - val_accuracy: 0.9780\n",
            "Epoch 21/30\n",
            "63/63 [==============================] - 23s 358ms/step - loss: 0.2447 - accuracy: 0.9940 - val_loss: 1.5647 - val_accuracy: 0.9790\n",
            "Epoch 22/30\n",
            "63/63 [==============================] - 23s 359ms/step - loss: 0.1740 - accuracy: 0.9960 - val_loss: 1.7969 - val_accuracy: 0.9770\n",
            "Epoch 23/30\n",
            "63/63 [==============================] - 23s 358ms/step - loss: 0.1133 - accuracy: 0.9960 - val_loss: 1.9108 - val_accuracy: 0.9800\n",
            "Epoch 24/30\n",
            "63/63 [==============================] - 23s 358ms/step - loss: 0.1320 - accuracy: 0.9940 - val_loss: 2.1079 - val_accuracy: 0.9780\n",
            "Epoch 25/30\n",
            "63/63 [==============================] - 23s 358ms/step - loss: 0.2286 - accuracy: 0.9940 - val_loss: 2.0324 - val_accuracy: 0.9770\n",
            "Epoch 26/30\n",
            "63/63 [==============================] - 23s 359ms/step - loss: 0.0443 - accuracy: 0.9970 - val_loss: 1.8469 - val_accuracy: 0.9820\n",
            "Epoch 27/30\n",
            "63/63 [==============================] - 23s 358ms/step - loss: 0.0865 - accuracy: 0.9955 - val_loss: 1.9214 - val_accuracy: 0.9780\n",
            "Epoch 28/30\n",
            "63/63 [==============================] - 23s 360ms/step - loss: 0.0738 - accuracy: 0.9945 - val_loss: 1.6790 - val_accuracy: 0.9770\n",
            "Epoch 29/30\n",
            "63/63 [==============================] - 23s 359ms/step - loss: 0.0896 - accuracy: 0.9955 - val_loss: 1.7061 - val_accuracy: 0.9800\n",
            "Epoch 30/30\n",
            "63/63 [==============================] - 23s 359ms/step - loss: 0.1794 - accuracy: 0.9955 - val_loss: 1.7666 - val_accuracy: 0.9790\n"
          ]
        }
      ]
    },
    {
      "cell_type": "code",
      "metadata": {
        "id": "QTO5M9XHLJgK",
        "colab": {
          "base_uri": "https://localhost:8080/"
        },
        "outputId": "0b599bbc-798d-460a-cee4-e7a09ea8e360"
      },
      "source": [
        "model = keras.models.load_model(\"fine_tuning.keras\")\n",
        "test_loss, test_acc = model.evaluate(test_dataset)\n",
        "print(f\"Test accuracy: {test_acc:.3f}\")"
      ],
      "execution_count": null,
      "outputs": [
        {
          "output_type": "stream",
          "name": "stdout",
          "text": [
            "32/32 [==============================] - 7s 209ms/step - loss: 1.9597 - accuracy: 0.9760\n",
            "Test accuracy: 0.976\n"
          ]
        }
      ]
    },
    {
      "cell_type": "markdown",
      "metadata": {
        "id": "47PdlIiBTRnO"
      },
      "source": [
        "## Summary\n",
        "\n",
        "### Using a Pre-trained model without Augmentation\n",
        "\n",
        "#### We reach a validation accuracy of about 99.55% which is better than what we achieved while training the small model from scratch. This won’t always be the case when you use pretrained features.\n",
        "\n",
        "#### Despite employing a high rate of dropout, the plots also show that we're overfitting nearly from the beginning. This is due to the fact that this method does not employ data augmentation, which is critical for avoiding overfitting with tiny image datasets.\n",
        "#### The test accuracy of the Pre-trained model with fine tuning is 97.6%."
      ]
    }
  ]
}